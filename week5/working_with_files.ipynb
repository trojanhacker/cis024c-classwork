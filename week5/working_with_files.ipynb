{
 "cells": [
  {
   "cell_type": "code",
   "execution_count": null,
   "metadata": {
    "collapsed": false
   },
   "outputs": [],
   "source": [
    "# downoad alice text\n",
    "\n",
    "# download text\n",
    "!curl 'http://www.gutenberg.org/files/11/11-0.txt' -o aliceText.txt"
   ]
  },
  {
   "cell_type": "code",
   "execution_count": 13,
   "metadata": {
    "collapsed": false
   },
   "outputs": [],
   "source": [
    "# open the file\n",
    "file = open(\"aliceText.txt\")\n"
   ]
  },
  {
   "cell_type": "code",
   "execution_count": 11,
   "metadata": {
    "collapsed": false
   },
   "outputs": [
    {
     "name": "stdout",
     "output_type": "stream",
     "text": [
      "173595\n"
     ]
    }
   ],
   "source": [
    "# read the entire file\n",
    "contents = file.read()\n",
    "\n",
    "print len(contents)"
   ]
  },
  {
   "cell_type": "code",
   "execution_count": 14,
   "metadata": {
    "collapsed": false
   },
   "outputs": [
    {
     "name": "stdout",
     "output_type": "stream",
     "text": [
      "﻿Project Gutenberg’s Alice’s Adventures in Wonderland, by Lewis Carroll\r\n",
      "\n"
     ]
    }
   ],
   "source": [
    "# read a single line\n",
    "print file.readline()"
   ]
  },
  {
   "cell_type": "code",
   "execution_count": 15,
   "metadata": {
    "collapsed": false
   },
   "outputs": [
    {
     "name": "stdout",
     "output_type": "stream",
     "text": [
      "<type 'list'>\n",
      "3735\n"
     ]
    }
   ],
   "source": [
    "# read content as a list of lines\n",
    "lines = file.readlines()\n",
    "\n",
    "print type(lines)\n",
    "print len(lines)"
   ]
  },
  {
   "cell_type": "code",
   "execution_count": 17,
   "metadata": {
    "collapsed": false
   },
   "outputs": [
    {
     "name": "stdout",
     "output_type": "stream",
     "text": [
      "Line: ﻿Project Gutenberg’s Alice’s Adventures in Wonderland, by Lewis Carroll\r\n",
      "\n",
      "Line: \r\n",
      "\n",
      "Line: This eBook is for the use of anyone anywhere at no cost and with\r\n",
      "\n",
      "Line: almost no restrictions whatsoever.  You may copy it, give it away or\r\n",
      "\n",
      "Line: re-use it under the terms of the Project Gutenberg License included\r\n",
      "\n",
      "Line: with this eBook or online at www.gutenberg.org\r\n",
      "\n",
      "Line: \r\n",
      "\n",
      "Line: \r\n",
      "\n",
      "Line: Title: Alice’s Adventures in Wonderland\r\n",
      "\n",
      "Line: \r\n",
      "\n"
     ]
    }
   ],
   "source": [
    "# display each line in the smaller file\n",
    "\n",
    "aliceFile = open(\"aliceText_10lines.txt\")\n",
    "\n",
    "for line in aliceFile:\n",
    "    \n",
    "    print \"Line:\",line"
   ]
  },
  {
   "cell_type": "code",
   "execution_count": null,
   "metadata": {
    "collapsed": true
   },
   "outputs": [],
   "source": [
    "# working with the movie lens dataset\n",
    "# location - http://files.grouplens.org/datasets/movielens/ml-latest-small-README.html\n",
    "# download location - https://grouplens.org/datasets/movielens/\n",
    "!curl 'http://files.grouplens.org/datasets/movielens/ml-latest-small.zip' -o ml-latest-small.zip"
   ]
  },
  {
   "cell_type": "code",
   "execution_count": 18,
   "metadata": {
    "collapsed": false
   },
   "outputs": [
    {
     "name": "stdout",
     "output_type": "stream",
     "text": [
      "userId,movieId,rating,timestamp\r",
      "\r\n",
      "1,31,2.5,1260759144\r",
      "\r\n",
      "1,1029,3.0,1260759179\r",
      "\r\n",
      "1,1061,3.0,1260759182\r",
      "\r\n",
      "1,1129,2.0,1260759185\r",
      "\r\n"
     ]
    }
   ],
   "source": [
    "!head -n 5 ml-latest-small/ratings.csv"
   ]
  },
  {
   "cell_type": "code",
   "execution_count": 19,
   "metadata": {
    "collapsed": false
   },
   "outputs": [
    {
     "name": "stdout",
     "output_type": "stream",
     "text": [
      "movieId,title,genres\r",
      "\r\n",
      "1,Toy Story (1995),Adventure|Animation|Children|Comedy|Fantasy\r",
      "\r\n",
      "2,Jumanji (1995),Adventure|Children|Fantasy\r",
      "\r\n",
      "3,Grumpier Old Men (1995),Comedy|Romance\r",
      "\r\n",
      "4,Waiting to Exhale (1995),Comedy|Drama|Romance\r",
      "\r\n"
     ]
    }
   ],
   "source": [
    "!head -n 5 ml-latest-small/movies.csv"
   ]
  },
  {
   "cell_type": "code",
   "execution_count": 22,
   "metadata": {
    "collapsed": true
   },
   "outputs": [],
   "source": [
    "# Writing to a file\n",
    "writeFile = open(\"user_names.txt\",\"w\")\n",
    "\n",
    "writeFile.write(\"Tom\\n\")\n",
    "writeFile.write(\"Harry\\n\")\n",
    "writeFile.write(\"Susan\\n\")\n",
    "\n",
    "writeFile.close()"
   ]
  },
  {
   "cell_type": "code",
   "execution_count": 23,
   "metadata": {
    "collapsed": false
   },
   "outputs": [
    {
     "name": "stdout",
     "output_type": "stream",
     "text": [
      "Tom\n",
      "Harry\n",
      "Susan\n",
      "\n"
     ]
    }
   ],
   "source": [
    "readFile = open(\"user_names.txt\")\n",
    "print readFile.read()"
   ]
  },
  {
   "cell_type": "code",
   "execution_count": 24,
   "metadata": {
    "collapsed": false
   },
   "outputs": [
    {
     "name": "stdout",
     "output_type": "stream",
     "text": [
      "movieId,title,genres\r",
      "\r\n",
      "1,Toy Story (1995),Adventure|Animation|Children|Comedy|Fantasy\r",
      "\r\n",
      "2,Jumanji (1995),Adventure|Children|Fantasy\r",
      "\r\n",
      "3,Grumpier Old Men (1995),Comedy|Romance\r",
      "\r\n",
      "4,Waiting to Exhale (1995),Comedy|Drama|Romance\r",
      "\r\n",
      "5,Father of the Bride Part II (1995),Comedy\r",
      "\r\n",
      "6,Heat (1995),Action|Crime|Thriller\r",
      "\r\n",
      "7,Sabrina (1995),Comedy|Romance\r",
      "\r\n",
      "8,Tom and Huck (1995),Adventure|Children\r",
      "\r\n",
      "9,Sudden Death (1995),Action\r",
      "\r\n"
     ]
    }
   ],
   "source": [
    "!head -n 10 ml-latest-small/movies.csv"
   ]
  },
  {
   "cell_type": "code",
   "execution_count": 28,
   "metadata": {
    "collapsed": false
   },
   "outputs": [
    {
     "name": "stdout",
     "output_type": "stream",
     "text": [
      " Sci-Fi 319\n",
      "Action 39\n",
      "Animation 28\n",
      "Fantasy 288\n",
      "Crime 936\n",
      "Romance 217\n",
      "Western 166\n",
      "Animation 419\n",
      "(no genres listed) 18\n",
      "Romance 1328\n",
      "War 12\n",
      "Drama 2055\n",
      "Film-Noir 57\n",
      "Horror 540\n",
      "Film-Noir 76\n",
      "Adventure 1074\n",
      "Children 65\n",
      "Musical 252\n",
      "Thriller 86\n",
      "Western 2\n",
      "Mystery 390\n",
      "IMAX 153\n",
      "War 355\n",
      "Mystery 153\n",
      "Comedy 1094\n",
      "Thriller 1643\n",
      "Sci-Fi 473\n",
      "Drama 2310\n",
      "Action 1506\n",
      "Horror 337\n",
      "Documentary 81\n",
      "Musical 142\n",
      "Documentary 414\n",
      "Comedy 2221\n",
      "Adventure 43\n",
      "Fantasy 366\n",
      "Crime 164\n",
      "Children 518\n"
     ]
    }
   ],
   "source": [
    "# Algorithm:\n",
    "#\n",
    "# Open the file\n",
    "movieFile = open(\"ml-latest-small/movies.csv\")\n",
    "\n",
    "# Initialize an empty genre dictionary\n",
    "genreCountDictionary = {}\n",
    "\n",
    "# Skip the first line\n",
    "movieFile.readline()\n",
    "\n",
    "# Loop through each line in the file\n",
    "for line in movieFile:\n",
    "\n",
    "    #  Split line by commas\n",
    "    movieFields = line.split(\",\")\n",
    "    \n",
    "    #  Get the last field\n",
    "    genres = movieFields[len(movieFields)-1]\n",
    "    \n",
    "    #  Split the last field by Pipe \n",
    "    genresList = genres.split(\"|\")\n",
    "    \n",
    "    #  Loop through the list of genres\n",
    "    for genre in genresList:\n",
    "        #   if genre does not exist in our genre count dictionar\n",
    "        if genreCountDictionary.get(genre) == None:\n",
    "            #  Add genre to the dictionary and set count as 1\n",
    "            genreCountDictionary[genre] = 1\n",
    "        #   else\n",
    "        else:\n",
    "            #  Increment existing genre count\n",
    "            genreCountDictionary[genre] += 1\n",
    "            \n",
    "# Loop through all the keys in the dictionary\n",
    "for key in genreCountDictionary:\n",
    "    #   Print the genre and the genre count\n",
    "    print key.strip(),genreCountDictionary[key]\n",
    "\n"
   ]
  },
  {
   "cell_type": "code",
   "execution_count": 30,
   "metadata": {
    "collapsed": true
   },
   "outputs": [],
   "source": [
    "genreCountFile = open(\"genre_count.csv\",\"w\")\n",
    "\n",
    "for key in genreCountDictionary:\n",
    "    \n",
    "    #   Print the genre and the genre count\n",
    "    genreCountFile.write(key.strip() + \",\" + str(genreCountDictionary[key])+\"\\n\")\n",
    "    \n",
    "genreCountFile.close()"
   ]
  },
  {
   "cell_type": "code",
   "execution_count": 31,
   "metadata": {
    "collapsed": false
   },
   "outputs": [
    {
     "name": "stdout",
     "output_type": "stream",
     "text": [
      "Sci-Fi,319\n",
      "\n",
      "Action,39\n",
      "\n",
      "Animation,28\n",
      "\n",
      "Fantasy,288\n",
      "\n",
      "Crime,936\n",
      "\n",
      "Romance,217\n",
      "\n",
      "Western,166\n",
      "\n",
      "Animation,419\n",
      "\n",
      "(no genres listed),18\n",
      "\n",
      "Romance,1328\n",
      "\n",
      "War,12\n",
      "\n",
      "Drama,2055\n",
      "\n",
      "Film-Noir,57\n",
      "\n",
      "Horror,540\n",
      "\n",
      "Film-Noir,76\n",
      "\n",
      "Adventure,1074\n",
      "\n",
      "Children,65\n",
      "\n",
      "Musical,252\n",
      "\n",
      "Thriller,86\n",
      "\n",
      "Western,2\n",
      "\n",
      "Mystery,390\n",
      "\n",
      "IMAX,153\n",
      "\n",
      "War,355\n",
      "\n",
      "Mystery,153\n",
      "\n",
      "Comedy,1094\n",
      "\n",
      "Thriller,1643\n",
      "\n",
      "Sci-Fi,473\n",
      "\n",
      "Drama,2310\n",
      "\n",
      "Action,1506\n",
      "\n",
      "Horror,337\n",
      "\n",
      "Documentary,81\n",
      "\n",
      "Musical,142\n",
      "\n",
      "Documentary,414\n",
      "\n",
      "Comedy,2221\n",
      "\n",
      "Adventure,43\n",
      "\n",
      "Fantasy,366\n",
      "\n",
      "Crime,164\n",
      "\n",
      "Children,518\n",
      "\n"
     ]
    }
   ],
   "source": [
    "# read the file\n",
    "genreCountFile = open(\"genre_count.csv\",\"r\")\n",
    "\n",
    "for line in genreCountFile:\n",
    "    print line\n"
   ]
  },
  {
   "cell_type": "code",
   "execution_count": 33,
   "metadata": {
    "collapsed": false
   },
   "outputs": [
    {
     "name": "stdout",
     "output_type": "stream",
     "text": [
      "/Users/sdorai000/Desktop/Personal/School/Sanjay/SJCC/cis24c/fall2017classwork/week5\r\n"
     ]
    }
   ],
   "source": [
    "!pwd"
   ]
  },
  {
   "cell_type": "code",
   "execution_count": 37,
   "metadata": {
    "collapsed": false
   },
   "outputs": [
    {
     "ename": "IOError",
     "evalue": "[Errno 21] Is a directory: 'split_genre'",
     "output_type": "error",
     "traceback": [
      "\u001b[0;31m---------------------------------------------------------------------------\u001b[0m",
      "\u001b[0;31mIOError\u001b[0m                                   Traceback (most recent call last)",
      "\u001b[0;32m<ipython-input-37-47c67c32516d>\u001b[0m in \u001b[0;36m<module>\u001b[0;34m()\u001b[0m\n\u001b[0;32m----> 1\u001b[0;31m \u001b[0;32mwith\u001b[0m \u001b[0mopen\u001b[0m\u001b[0;34m(\u001b[0m\u001b[0;34m\"split_genre\"\u001b[0m\u001b[0;34m)\u001b[0m \u001b[0;32mas\u001b[0m \u001b[0mfileHandle\u001b[0m\u001b[0;34m:\u001b[0m\u001b[0;34m\u001b[0m\u001b[0m\n\u001b[0m\u001b[1;32m      2\u001b[0m     \u001b[0;32mprint\u001b[0m \u001b[0mfileHandle\u001b[0m\u001b[0;34m.\u001b[0m\u001b[0mname\u001b[0m\u001b[0;34m\u001b[0m\u001b[0m\n",
      "\u001b[0;31mIOError\u001b[0m: [Errno 21] Is a directory: 'split_genre'"
     ]
    }
   ],
   "source": [
    "import os\n",
    "\n",
    "\n",
    "with open(\"split_genre/\") as fileHandle:\n",
    "    print fileHandle.name"
   ]
  },
  {
   "cell_type": "code",
   "execution_count": 46,
   "metadata": {
    "collapsed": false
   },
   "outputs": [
    {
     "name": "stdout",
     "output_type": "stream",
     "text": [
      "Sci-Fi,319\n",
      "\n",
      "Action,39\n",
      "\n",
      "Animation,28\n",
      "\n",
      "Fantasy,288\n",
      "\n",
      "Crime,936\n",
      "\n",
      "Romance,217\n",
      "\n",
      "Western,166\n",
      "\n",
      "Animation,419\n",
      "\n",
      "(no genres listed),18\n",
      "\n",
      "Romance,1328\n",
      "\n",
      "War,12\n",
      "\n",
      "Drama,2055\n",
      "\n",
      "Film-Noir,57\n",
      "\n",
      "Horror,540\n",
      "\n",
      "Film-Noir,76\n",
      "\n",
      "Adventure,1074\n",
      "\n",
      "Children,65\n",
      "\n",
      "Musical,252\n",
      "\n",
      "Thriller,86\n",
      "\n",
      "Western,2\n",
      "\n",
      "Mystery,390\n",
      "\n",
      "IMAX,153\n",
      "\n",
      "War,355\n",
      "\n",
      "Mystery,153\n",
      "\n",
      "Comedy,1094\n",
      "\n",
      "Thriller,1643\n",
      "\n",
      "Sci-Fi,473\n",
      "\n",
      "Drama,2310\n",
      "\n",
      "Action,1506\n",
      "\n",
      "Horror,337\n",
      "\n",
      "Documentary,81\n",
      "\n",
      "Musical,142\n",
      "\n",
      "Documentary,414\n",
      "\n",
      "Comedy,2221\n",
      "\n",
      "Adventure,43\n",
      "\n",
      "Fantasy,366\n",
      "\n",
      "Crime,164\n",
      "\n",
      "Children,518\n",
      "\n"
     ]
    }
   ],
   "source": [
    "import glob\n",
    "filePaths = glob.glob(\"/Users/sdorai000/Desktop/Personal/School/Sanjay/SJCC/cis24c/fall2017classwork/week5/split_genre/*\")\n",
    "\n",
    "for filePath in filePaths:\n",
    "    with open(filePath) as fileHandle:\n",
    "        for line in fileHandle:\n",
    "            print line"
   ]
  },
  {
   "cell_type": "code",
   "execution_count": null,
   "metadata": {
    "collapsed": true
   },
   "outputs": [],
   "source": []
  }
 ],
 "metadata": {
  "kernelspec": {
   "display_name": "Python 2",
   "language": "python",
   "name": "python2"
  },
  "language_info": {
   "codemirror_mode": {
    "name": "ipython",
    "version": 2
   },
   "file_extension": ".py",
   "mimetype": "text/x-python",
   "name": "python",
   "nbconvert_exporter": "python",
   "pygments_lexer": "ipython2",
   "version": "2.7.10"
  }
 },
 "nbformat": 4,
 "nbformat_minor": 1
}
