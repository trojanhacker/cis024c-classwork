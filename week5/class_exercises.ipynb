{
 "cells": [
  {
   "cell_type": "code",
   "execution_count": 4,
   "metadata": {
    "collapsed": false
   },
   "outputs": [
    {
     "name": "stdout",
     "output_type": "stream",
     "text": [
      "Enter your age:23\n",
      "<type 'int'>\n",
      "23\n",
      "True\n"
     ]
    }
   ],
   "source": [
    "userAge = int(raw_input(\"Enter your age:\"))\n",
    "\n",
    "print type(userAge)\n",
    "print userAge\n",
    "\n",
    "print userAge < 36"
   ]
  },
  {
   "cell_type": "code",
   "execution_count": 12,
   "metadata": {
    "collapsed": false
   },
   "outputs": [],
   "source": [
    "tempDict = {'harry':'San Jose','john':'Berkeley'}"
   ]
  },
  {
   "cell_type": "code",
   "execution_count": 15,
   "metadata": {
    "collapsed": false
   },
   "outputs": [
    {
     "name": "stdout",
     "output_type": "stream",
     "text": [
      "['john', 'harry']\n",
      "['Berkeley', 'San Jose']\n"
     ]
    }
   ],
   "source": [
    "keysList =  tempDict.keys()\n",
    "valuesList = tempDict.values()\n",
    "\n",
    "print keysList\n",
    "print valuesList"
   ]
  },
  {
   "cell_type": "code",
   "execution_count": 10,
   "metadata": {
    "collapsed": true
   },
   "outputs": [],
   "source": [
    "listOfDictionaries = [tempDict]"
   ]
  },
  {
   "cell_type": "code",
   "execution_count": 11,
   "metadata": {
    "collapsed": false
   },
   "outputs": [
    {
     "name": "stdout",
     "output_type": "stream",
     "text": [
      "[{'Harry': 'name'}]\n"
     ]
    }
   ],
   "source": [
    "print listOfDictionaries"
   ]
  },
  {
   "cell_type": "code",
   "execution_count": 18,
   "metadata": {
    "collapsed": false
   },
   "outputs": [
    {
     "name": "stdout",
     "output_type": "stream",
     "text": [
      "﻿Project Gutenberg’s Alice’s Adventures in Wonderland, by Lewis Carroll\r",
      "\r\n",
      "\r",
      "\r\n",
      "This eBook is for the use of anyone anywhere at no cost and with\r",
      "\r\n",
      "almost no restrictions whatsoever.  You may copy it, give it away or\r",
      "\r\n",
      "re-use it under the terms of the Project Gutenberg License included\r",
      "\r\n",
      "with this eBook or online at www.gutenberg.org\r",
      "\r\n",
      "\r",
      "\r\n",
      "\r",
      "\r\n",
      "Title: Alice’s Adventures in Wonderland\r",
      "\r\n",
      "\r",
      "\r\n"
     ]
    }
   ],
   "source": [
    "!cat aliceText_10lines.txt"
   ]
  },
  {
   "cell_type": "code",
   "execution_count": 39,
   "metadata": {
    "collapsed": true
   },
   "outputs": [],
   "source": [
    "aliceFile = open(\"aliceText_10lines.txt\")"
   ]
  },
  {
   "cell_type": "code",
   "execution_count": 40,
   "metadata": {
    "collapsed": false
   },
   "outputs": [
    {
     "data": {
      "text/plain": [
       "'aliceText_10lines.txt'"
      ]
     },
     "execution_count": 40,
     "metadata": {},
     "output_type": "execute_result"
    }
   ],
   "source": [
    "aliceFile.name"
   ]
  },
  {
   "cell_type": "code",
   "execution_count": 41,
   "metadata": {
    "collapsed": false
   },
   "outputs": [
    {
     "data": {
      "text/plain": [
       "'r'"
      ]
     },
     "execution_count": 41,
     "metadata": {},
     "output_type": "execute_result"
    }
   ],
   "source": [
    "aliceFile.mode"
   ]
  },
  {
   "cell_type": "code",
   "execution_count": 42,
   "metadata": {
    "collapsed": false
   },
   "outputs": [
    {
     "data": {
      "text/plain": [
       "'\\xef\\xbb\\xbfProject Gutenberg\\xe2\\x80\\x99s Alice\\xe2\\x80\\x99s Adventures in Wonderland, by Lewis Carroll\\r\\n\\r\\nThis eBook is for the use of anyone anywhere at no cost and with\\r\\nalmost no restrictions whatsoever.  You may copy it, give it away or\\r\\nre-use it under the terms of the Project Gutenberg License included\\r\\nwith this eBook or online at www.gutenberg.org\\r\\n\\r\\n\\r\\nTitle: Alice\\xe2\\x80\\x99s Adventures in Wonderland\\r\\n\\r\\n'"
      ]
     },
     "execution_count": 42,
     "metadata": {},
     "output_type": "execute_result"
    }
   ],
   "source": [
    "aliceFile.read()"
   ]
  },
  {
   "cell_type": "code",
   "execution_count": 43,
   "metadata": {
    "collapsed": false
   },
   "outputs": [
    {
     "data": {
      "text/plain": [
       "''"
      ]
     },
     "execution_count": 43,
     "metadata": {},
     "output_type": "execute_result"
    }
   ],
   "source": [
    "aliceFile.readline()"
   ]
  },
  {
   "cell_type": "code",
   "execution_count": 44,
   "metadata": {
    "collapsed": true
   },
   "outputs": [],
   "source": [
    "aliceFile.seek(10)"
   ]
  },
  {
   "cell_type": "code",
   "execution_count": 45,
   "metadata": {
    "collapsed": false
   },
   "outputs": [
    {
     "data": {
      "text/plain": [
       "' Gutenberg\\xe2\\x80\\x99s Alice\\xe2\\x80\\x99s Adventures in Wonderland, by Lewis Carroll\\r\\n'"
      ]
     },
     "execution_count": 45,
     "metadata": {},
     "output_type": "execute_result"
    }
   ],
   "source": [
    "aliceFile.readline()"
   ]
  },
  {
   "cell_type": "code",
   "execution_count": 29,
   "metadata": {
    "collapsed": false
   },
   "outputs": [
    {
     "data": {
      "text/plain": [
       "'re-use it under the terms of the Project Gutenberg License included\\r\\n'"
      ]
     },
     "execution_count": 29,
     "metadata": {},
     "output_type": "execute_result"
    }
   ],
   "source": [
    "aliceFile.readline()"
   ]
  },
  {
   "cell_type": "code",
   "execution_count": 30,
   "metadata": {
    "collapsed": false
   },
   "outputs": [
    {
     "data": {
      "text/plain": [
       "['with this eBook or online at www.gutenberg.org\\r\\n',\n",
       " '\\r\\n',\n",
       " '\\r\\n',\n",
       " 'Title: Alice\\xe2\\x80\\x99s Adventures in Wonderland\\r\\n',\n",
       " '\\r\\n']"
      ]
     },
     "execution_count": 30,
     "metadata": {},
     "output_type": "execute_result"
    }
   ],
   "source": [
    "aliceFile.readlines()"
   ]
  },
  {
   "cell_type": "code",
   "execution_count": 31,
   "metadata": {
    "collapsed": true
   },
   "outputs": [],
   "source": [
    "lineList = aliceFile.readlines()"
   ]
  },
  {
   "cell_type": "code",
   "execution_count": 32,
   "metadata": {
    "collapsed": false
   },
   "outputs": [
    {
     "name": "stdout",
     "output_type": "stream",
     "text": [
      "[]\n"
     ]
    }
   ],
   "source": [
    "print lineList"
   ]
  },
  {
   "cell_type": "code",
   "execution_count": 34,
   "metadata": {
    "collapsed": false
   },
   "outputs": [
    {
     "name": "stdout",
     "output_type": "stream",
     "text": [
      "['\\xef\\xbb\\xbfProject Gutenberg\\xe2\\x80\\x99s Alice\\xe2\\x80\\x99s Adventures in Wonderland, by Lewis Carroll\\r\\n', '\\r\\n', 'This eBook is for the use of anyone anywhere at no cost and with\\r\\n', 'almost no restrictions whatsoever.  You may copy it, give it away or\\r\\n', 're-use it under the terms of the Project Gutenberg License included\\r\\n', 'with this eBook or online at www.gutenberg.org\\r\\n', '\\r\\n', '\\r\\n', 'Title: Alice\\xe2\\x80\\x99s Adventures in Wonderland\\r\\n', '\\r\\n']\n"
     ]
    }
   ],
   "source": [
    "aliceFile.seek(0)\n",
    "lineList = aliceFile.readlines()\n",
    "print lineList\n"
   ]
  },
  {
   "cell_type": "code",
   "execution_count": 38,
   "metadata": {
    "collapsed": false
   },
   "outputs": [
    {
     "name": "stdout",
     "output_type": "stream",
     "text": [
      "﻿Project Gutenberg’s Alice’s Adventures in Wonderland, by Lewis Carroll\r\n",
      "\n",
      "\r\n",
      "\n",
      "This eBook is for the use of anyone anywhere at no cost and with\r\n",
      "\n",
      "almost no restrictions whatsoever.  You may copy it, give it away or\r\n",
      "\n",
      "re-use it under the terms of the Project Gutenberg License included\r\n",
      "\n",
      "with this eBook or online at www.gutenberg.org\r\n",
      "\n",
      "\r\n",
      "\n",
      "\r\n",
      "\n",
      "Title: Alice’s Adventures in Wonderland\r\n",
      "\n",
      "\r\n",
      "\n",
      "Number of lines in the file is: 10\n"
     ]
    }
   ],
   "source": [
    "for line in lineList:\n",
    "    print line\n",
    "    \n",
    "print \"Number of lines in the file is:\",len(lineList)"
   ]
  },
  {
   "cell_type": "code",
   "execution_count": 37,
   "metadata": {
    "collapsed": true
   },
   "outputs": [],
   "source": [
    "aliceFile.close()"
   ]
  },
  {
   "cell_type": "code",
   "execution_count": 46,
   "metadata": {
    "collapsed": false
   },
   "outputs": [
    {
     "name": "stdout",
     "output_type": "stream",
     "text": [
      "Line: ﻿Project Gutenberg’s Alice’s Adventures in Wonderland, by Lewis Carroll\r\n",
      "\n",
      "Line: \r\n",
      "\n",
      "Line: This eBook is for the use of anyone anywhere at no cost and with\r\n",
      "\n",
      "Line: almost no restrictions whatsoever.  You may copy it, give it away or\r\n",
      "\n",
      "Line: re-use it under the terms of the Project Gutenberg License included\r\n",
      "\n",
      "Line: with this eBook or online at www.gutenberg.org\r\n",
      "\n",
      "Line: \r\n",
      "\n",
      "Line: \r\n",
      "\n",
      "Line: Title: Alice’s Adventures in Wonderland\r\n",
      "\n",
      "Line: \r\n",
      "\n"
     ]
    }
   ],
   "source": [
    "aliceFile = open(\"aliceText_10lines.txt\")\n",
    "\n",
    "for line in aliceFile:\n",
    "    print \"Line:\",line"
   ]
  },
  {
   "cell_type": "code",
   "execution_count": null,
   "metadata": {
    "collapsed": true
   },
   "outputs": [],
   "source": []
  }
 ],
 "metadata": {
  "kernelspec": {
   "display_name": "Python 2",
   "language": "python",
   "name": "python2"
  },
  "language_info": {
   "codemirror_mode": {
    "name": "ipython",
    "version": 2
   },
   "file_extension": ".py",
   "mimetype": "text/x-python",
   "name": "python",
   "nbconvert_exporter": "python",
   "pygments_lexer": "ipython2",
   "version": "2.7.10"
  }
 },
 "nbformat": 4,
 "nbformat_minor": 1
}
