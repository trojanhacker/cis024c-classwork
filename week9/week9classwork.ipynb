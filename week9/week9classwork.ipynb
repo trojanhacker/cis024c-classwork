{
 "cells": [
  {
   "cell_type": "code",
   "execution_count": 1,
   "metadata": {
    "collapsed": false
   },
   "outputs": [
    {
     "name": "stdout",
     "output_type": "stream",
     "text": [
      "Python 2.7.12 :: Continuum Analytics, Inc.\r\n"
     ]
    }
   ],
   "source": [
    "!python --version"
   ]
  },
  {
   "cell_type": "code",
   "execution_count": 2,
   "metadata": {
    "collapsed": false
   },
   "outputs": [
    {
     "name": "stdout",
     "output_type": "stream",
     "text": [
      "Writing main.py\n"
     ]
    }
   ],
   "source": [
    "%%writefile main.py\n",
    "\n",
    "def add(n1,n2):\n",
    "    return n1+n2\n",
    "\n",
    "print add(1,2)"
   ]
  },
  {
   "cell_type": "code",
   "execution_count": 3,
   "metadata": {
    "collapsed": false
   },
   "outputs": [
    {
     "name": "stdout",
     "output_type": "stream",
     "text": [
      "3\r\n"
     ]
    }
   ],
   "source": [
    "!python main.py"
   ]
  },
  {
   "cell_type": "code",
   "execution_count": 8,
   "metadata": {
    "collapsed": false
   },
   "outputs": [
    {
     "name": "stdout",
     "output_type": "stream",
     "text": [
      "Overwriting main1.py\n"
     ]
    }
   ],
   "source": [
    "%%writefile main1.py\n",
    "\n",
    "import sys\n",
    "\n",
    "def add(n1,n2):\n",
    "    return n1+n2\n",
    "\n",
    "number1 = int(raw_input(\"Enter a number:\"))\n",
    "number2 = int(raw_input(\"Enter a number:\"))\n",
    "\n",
    "#print add(int(sys.argv[1]),int(sys.argv[2]))\n",
    "\n",
    "print add(number1,number2)"
   ]
  },
  {
   "cell_type": "code",
   "execution_count": 9,
   "metadata": {
    "collapsed": false
   },
   "outputs": [
    {
     "name": "stdout",
     "output_type": "stream",
     "text": [
      "Enter a number:^C\n",
      "Traceback (most recent call last):\n",
      "  File \"main1.py\", line 7, in <module>\n",
      "    number1 = int(raw_input(\"Enter a number:\"))\n",
      "KeyboardInterrupt\n"
     ]
    }
   ],
   "source": [
    "!python main1.py 2 3"
   ]
  },
  {
   "cell_type": "code",
   "execution_count": 19,
   "metadata": {
    "collapsed": false
   },
   "outputs": [
    {
     "name": "stdout",
     "output_type": "stream",
     "text": [
      "Overwriting search_helper.py\n"
     ]
    }
   ],
   "source": [
    "%%writefile search_helper.py\n",
    "\n",
    "def searchString(searchKey, searchText):\n",
    "    \n",
    "    if searchKey in searchText.split(\" \"):\n",
    "        return True\n",
    "    else:\n",
    "        return False"
   ]
  },
  {
   "cell_type": "code",
   "execution_count": 21,
   "metadata": {
    "collapsed": false
   },
   "outputs": [
    {
     "name": "stdout",
     "output_type": "stream",
     "text": [
      "Overwriting main3.py\n"
     ]
    }
   ],
   "source": [
    "%%writefile main3.py\n",
    "\n",
    "from search_helper import *\n",
    "\n",
    "print searchString(\"and\",\"jack and jill went up the hill\")"
   ]
  },
  {
   "cell_type": "code",
   "execution_count": 47,
   "metadata": {
    "collapsed": false
   },
   "outputs": [
    {
     "name": "stdout",
     "output_type": "stream",
     "text": [
      "Overwriting addlist.py\n"
     ]
    }
   ],
   "source": [
    "%%writefile addlist.py\n",
    "\n",
    "import add\n",
    "import sys\n",
    "\n",
    "print sys.argv\n",
    "\n",
    "def addList(inlist,sysargs):\n",
    "    \n",
    "    add(inlist[0],inlist[1],sysargs)\n",
    "    \n",
    "addList([1,2],sys.argv)\n",
    "    "
   ]
  },
  {
   "cell_type": "code",
   "execution_count": 50,
   "metadata": {
    "collapsed": false
   },
   "outputs": [
    {
     "name": "stdout",
     "output_type": "stream",
     "text": [
      "Overwriting add.py\n"
     ]
    }
   ],
   "source": [
    "%%writefile add.py\n",
    "\n",
    "def add(n1,n2,sysargs):\n",
    "    \n",
    "    print sysargs\n",
    "    return n1+n2"
   ]
  },
  {
   "cell_type": "code",
   "execution_count": 51,
   "metadata": {
    "collapsed": false
   },
   "outputs": [
    {
     "name": "stdout",
     "output_type": "stream",
     "text": [
      "['addList.py', 'hello']\r\n",
      "Traceback (most recent call last):\r\n",
      "  File \"addList.py\", line 11, in <module>\r\n",
      "    addList([1,2],sys.argv)\r\n",
      "  File \"addList.py\", line 9, in addList\r\n",
      "    add(inlist[0],inlist[1],sysargs)\r\n",
      "TypeError: 'module' object is not callable\r\n"
     ]
    }
   ],
   "source": [
    "!python addList.py hello"
   ]
  },
  {
   "cell_type": "code",
   "execution_count": null,
   "metadata": {
    "collapsed": true
   },
   "outputs": [],
   "source": []
  }
 ],
 "metadata": {
  "kernelspec": {
   "display_name": "Python 2",
   "language": "python",
   "name": "python2"
  },
  "language_info": {
   "codemirror_mode": {
    "name": "ipython",
    "version": 2
   },
   "file_extension": ".py",
   "mimetype": "text/x-python",
   "name": "python",
   "nbconvert_exporter": "python",
   "pygments_lexer": "ipython2",
   "version": "2.7.10"
  }
 },
 "nbformat": 4,
 "nbformat_minor": 1
}
