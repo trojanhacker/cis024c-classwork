{
 "cells": [
  {
   "cell_type": "markdown",
   "metadata": {},
   "source": [
    "# Week 3 - Classwork - September 21st 2017\n"
   ]
  },
  {
   "cell_type": "code",
   "execution_count": 2,
   "metadata": {},
   "outputs": [
    {
     "name": "stdout",
     "output_type": "stream",
     "text": [
      "Python 2.7.13 :: Anaconda 4.4.0 (x86_64)\r\n"
     ]
    }
   ],
   "source": [
    "!python --version"
   ]
  },
  {
   "cell_type": "code",
   "execution_count": 3,
   "metadata": {},
   "outputs": [
    {
     "name": "stdout",
     "output_type": "stream",
     "text": [
      "('Upper Case:', 'JACK AND JILL WENT UP THE HILL')\n",
      "('Lower Case:', 'jack and jill went up the hill')\n",
      "('Capitalize:', 'Jack and jill went up the hill')\n",
      "('Words in text:', ['jack', 'and', 'Jill', 'went', 'up', 'the', 'hill'])\n",
      "('Number of words:', 7)\n",
      "Found Jack\n"
     ]
    }
   ],
   "source": [
    "# Program to find uppercase,lowercase, capitalize and split text\n",
    "\n",
    "import string\n",
    "\n",
    "text = \"jack and Jill went up the hill\"\n",
    "\n",
    "print(\"Upper Case:\",text.upper())\n",
    "print(\"Lower Case:\",text.lower())\n",
    "print(\"Capitalize:\",text.capitalize())\n",
    "\n",
    "words = text.split()\n",
    "\n",
    "print(\"Words in text:\", words)\n",
    "print(\"Number of words:\",len(words))\n",
    "\n",
    "for word in words:\n",
    "    if word == \"Jack\".lower():\n",
    "        print(\"Found Jack\")"
   ]
  },
  {
   "cell_type": "code",
   "execution_count": 4,
   "metadata": {},
   "outputs": [
    {
     "name": "stdout",
     "output_type": "stream",
     "text": [
      "There is a pencil in the wishlist\n"
     ]
    }
   ],
   "source": [
    "# Parsing a comma separated set of values\n",
    "wishlist = \"pen,pencil,eraser,notepad\"\n",
    "\n",
    "wishes = wishlist.split(\",\")\n",
    "\n",
    "for wish in wishes:\n",
    "    if wish == \"pencil\":\n",
    "        print \"There is a pencil in the wishlist\""
   ]
  },
  {
   "cell_type": "code",
   "execution_count": 6,
   "metadata": {},
   "outputs": [
    {
     "name": "stdout",
     "output_type": "stream",
     "text": [
      "Enter a search term:jack\n",
      "Enter a comma separated set of wishes (type quit to exit):jack,and,jill\n",
      "There is a jack in the list\n",
      "Enter a comma separated set of wishes (type quit to exit):quit\n",
      "User ended session.\n"
     ]
    }
   ],
   "source": [
    "# Parsing a comma separated set of values\n",
    "wishlist = \"\"\n",
    "\n",
    "searchTerm = raw_input(\"Enter a search term:\")\n",
    "\n",
    "while True:\n",
    "    \n",
    "    wishlist = raw_input(\"Enter a comma separated set of wishes (type quit to exit):\")\n",
    "\n",
    "    if wishlist == \"quit\":\n",
    "        print \"User ended session.\"\n",
    "        break\n",
    "                         \n",
    "    wishes = wishlist.split(\",\")\n",
    "\n",
    "    found = False\n",
    "    for wish in wishes:\n",
    "        if wish.strip() == searchTerm:\n",
    "            print \"There is a \" + searchTerm + \" in the list\"\n",
    "            \n",
    "            found = True\n",
    "            break\n",
    "            \n",
    "    if found == False:\n",
    "        print \"Cound not find \" + searchTerm\n"
   ]
  },
  {
   "cell_type": "code",
   "execution_count": 7,
   "metadata": {},
   "outputs": [
    {
     "name": "stdout",
     "output_type": "stream",
     "text": [
      "Start: San Jose City College :End\n"
     ]
    }
   ],
   "source": [
    "college = \" San Jose City College \"\n",
    "print \"Start:\" + college + \":End\""
   ]
  },
  {
   "cell_type": "code",
   "execution_count": 8,
   "metadata": {},
   "outputs": [
    {
     "name": "stdout",
     "output_type": "stream",
     "text": [
      "Start: San Jose City College:End\n"
     ]
    }
   ],
   "source": [
    "temp = college.rstrip()\n",
    "print \"Start:\" + temp + \":End\""
   ]
  },
  {
   "cell_type": "code",
   "execution_count": 9,
   "metadata": {},
   "outputs": [
    {
     "name": "stdout",
     "output_type": "stream",
     "text": [
      "Enter string:jack and jill went up the hill\n",
      "Enter a search string:went\n",
      "We have found our searchString: went\n"
     ]
    }
   ],
   "source": [
    "# find a set of characters in a string\n",
    "\n",
    "#stringName = \"supercalafragilistic\"\n",
    "#searchString = \"cal\"\n",
    "\n",
    "stringName = raw_input(\"Enter string:\")\n",
    "searchString = raw_input(\"Enter a search string:\")\n",
    "\n",
    "stringLen = len(stringName)\n",
    "searchStringLen = len(searchString)\n",
    "\n",
    "found = False\n",
    "\n",
    "for index in range(0,stringLen-searchStringLen+1):\n",
    "    \n",
    "    #print(\"substring:\",stringName[index:index+searchStringLen])\n",
    "    \n",
    "    subString = stringName[index:index+searchStringLen]\n",
    "    \n",
    "    if searchString == subString:\n",
    "        print \"We have found our searchString:\",searchString\n",
    "        \n",
    "        found = True\n",
    "        break\n",
    "        \n",
    "if found == False:\n",
    "    print \"Sorry, could not find our searchString:\",searchString"
   ]
  },
  {
   "cell_type": "code",
   "execution_count": 19,
   "metadata": {},
   "outputs": [
    {
     "name": "stdout",
     "output_type": "stream",
     "text": [
      "Enter string:jack and jill\n",
      "Enter a search string:hello\n",
      "Sorry, cound not find the searchstring\n"
     ]
    }
   ],
   "source": [
    "# find a set of characters in a string\n",
    "\n",
    "#stringName = \"supercalafragilistic\"\n",
    "#searchString = \"cal\"\n",
    "\n",
    "stringName = raw_input(\"Enter string:\")\n",
    "searchString = raw_input(\"Enter a search string:\")\n",
    "\n",
    "if searchString in stringName:\n",
    "    print \"Found search string\"\n",
    "else:\n",
    "    print \"Sorry, cound not find the searchstring\""
   ]
  },
  {
   "cell_type": "markdown",
   "metadata": {},
   "source": [
    "### Lab Exercises"
   ]
  },
  {
   "cell_type": "markdown",
   "metadata": {},
   "source": [
    "#### Exercise 1\n",
    "Write a Python program to accept a users name and print it in reverse"
   ]
  },
  {
   "cell_type": "code",
   "execution_count": 16,
   "metadata": {},
   "outputs": [
    {
     "name": "stdout",
     "output_type": "stream",
     "text": [
      "Enter your name:Mark Twain\n",
      "The user's name is: Mark Twain\n",
      "The user's name in reverse is: niawT kraM\n"
     ]
    }
   ],
   "source": [
    "userName = input(\"Enter your name:\")\n",
    "\n",
    "print(\"The user's name is:\",userName)\n",
    "print(\"The user's name in reverse is:\",userName[::-1])"
   ]
  },
  {
   "cell_type": "markdown",
   "metadata": {},
   "source": [
    "#### Exercise 2\n",
    "\n",
    "Write a Python program to accept a users name (first and last) and extract the first and last name and print those out separately\n"
   ]
  },
  {
   "cell_type": "code",
   "execution_count": 21,
   "metadata": {},
   "outputs": [
    {
     "name": "stdout",
     "output_type": "stream",
     "text": [
      "Enter the first and lastname:Mark Twain\n",
      "Mark\n",
      "Twain\n",
      "First Name: Mark\n",
      "Last Name: Twain\n"
     ]
    }
   ],
   "source": [
    "userName = input(\"Enter the first and lastname:\")\n",
    "\n",
    "for word in userName.split():\n",
    "    print(word)\n",
    "    \n",
    "firstName,lastName = userName.split()\n",
    "print(\"First Name:\",firstName)\n",
    "print(\"Last Name:\",lastName)\n"
   ]
  },
  {
   "cell_type": "code",
   "execution_count": 23,
   "metadata": {},
   "outputs": [
    {
     "data": {
      "text/plain": [
       "False"
      ]
     },
     "execution_count": 23,
     "metadata": {},
     "output_type": "execute_result"
    }
   ],
   "source": [
    "word = \"10l00\"\n",
    "\n",
    "word.isdigit()"
   ]
  },
  {
   "cell_type": "markdown",
   "metadata": {},
   "source": [
    "#### Exercise 3\n",
    "Write a Python program to accept a long string from the user consisting of words that consists of alphabets and numbers. Extract the numbers in the string and display the result"
   ]
  },
  {
   "cell_type": "code",
   "execution_count": 20,
   "metadata": {},
   "outputs": [
    {
     "name": "stdout",
     "output_type": "stream",
     "text": [
      "('Found:', '300')\n",
      "('Found:', '1')\n"
     ]
    }
   ],
   "source": [
    "text = \"Jack and Jill went up the hill 300 times in 1 year\"\n",
    "\n",
    "for word in text.split():\n",
    "    if word.isdigit():\n",
    "        print(\"Found:\",word)"
   ]
  },
  {
   "cell_type": "markdown",
   "metadata": {},
   "source": [
    "#### Exercise 4\n",
    "\n",
    "Write a Python program to accept a long string from the user consisting of words that consists of alphabets and numbers. Extract the numbers in the string and display the result"
   ]
  },
  {
   "cell_type": "code",
   "execution_count": 21,
   "metadata": {},
   "outputs": [
    {
     "name": "stdout",
     "output_type": "stream",
     "text": [
      "Lower: jack and jill went up the hill 300 times in 1 year\n",
      "Upper: JACK AND JILL WENT UP THE HILL 300 TIMES IN 1 YEAR\n"
     ]
    }
   ],
   "source": [
    "text = \"Jack and Jill went up the hill 300 times in 1 year\"\n",
    "\n",
    "print \"Lower:\",text.lower() \n",
    "print \"Upper:\",text.upper() "
   ]
  },
  {
   "cell_type": "markdown",
   "metadata": {},
   "source": [
    "#### Exercise 5\n",
    "Write a python program to get two strings from the user - a string variable named text and another string variable named match. Look for match in text and remove all occurrences of match and display the result."
   ]
  },
  {
   "cell_type": "code",
   "execution_count": 22,
   "metadata": {},
   "outputs": [
    {
     "name": "stdout",
     "output_type": "stream",
     "text": [
      "Enter some text:jack and jill went up the hill\n",
      "Enter a search string:the\n",
      "jack   and   jill   went   up   hill  \n"
     ]
    }
   ],
   "source": [
    "text = raw_input(\"Enter some text:\")\n",
    "match = raw_input(\"Enter a search string:\")\n",
    "\n",
    "for word in text.split():\n",
    "    if word != match:\n",
    "        print word,\" \","
   ]
  },
  {
   "cell_type": "markdown",
   "metadata": {},
   "source": [
    "#### Exercise 6\n",
    "\n",
    "Write a python program to get two strings from the user - a string variable named text and another string variable named match. Look for match in text and remove all occurrences of match and display the result."
   ]
  },
  {
   "cell_type": "code",
   "execution_count": 23,
   "metadata": {},
   "outputs": [
    {
     "name": "stdout",
     "output_type": "stream",
     "text": [
      "Enter some text:jack and jill went up the hill\n",
      "Enter a search string:jack\n",
      "Hello   and   jill   went   up   the   hill  \n"
     ]
    }
   ],
   "source": [
    "text = raw_input(\"Enter some text:\")\n",
    "match = raw_input(\"Enter a search string:\")\n",
    "\n",
    "for word in text.split():\n",
    "    if word == match:\n",
    "        print \"Hello\",\" \",\n",
    "    else:\n",
    "        print word,\" \","
   ]
  },
  {
   "cell_type": "code",
   "execution_count": 24,
   "metadata": {},
   "outputs": [
    {
     "data": {
      "text/plain": [
       "'jack and Hello went up the hill'"
      ]
     },
     "execution_count": 24,
     "metadata": {},
     "output_type": "execute_result"
    }
   ],
   "source": [
    "text.replace(\"jill\",\"Hello\")"
   ]
  },
  {
   "cell_type": "code",
   "execution_count": null,
   "metadata": {
    "collapsed": true
   },
   "outputs": [],
   "source": []
  }
 ],
 "metadata": {
  "kernelspec": {
   "display_name": "Python 2",
   "language": "python",
   "name": "python2"
  },
  "language_info": {
   "codemirror_mode": {
    "name": "ipython",
    "version": 2
   },
   "file_extension": ".py",
   "mimetype": "text/x-python",
   "name": "python",
   "nbconvert_exporter": "python",
   "pygments_lexer": "ipython2",
   "version": "2.7.13"
  }
 },
 "nbformat": 4,
 "nbformat_minor": 2
}
