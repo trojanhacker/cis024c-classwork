{
 "cells": [
  {
   "cell_type": "code",
   "execution_count": 6,
   "metadata": {
    "collapsed": false
   },
   "outputs": [
    {
     "name": "stdout",
     "output_type": "stream",
     "text": [
      "120.0\n",
      "[4, 6, 8]\n"
     ]
    }
   ],
   "source": [
    "a = [1,2,3]\n",
    "b = [3,4,5]\n",
    "\n",
    "x=100\n",
    "y=20.0\n",
    "\n",
    "print x+y\n",
    "\n",
    "print [x+y for x,y in zip(a,b)]"
   ]
  },
  {
   "cell_type": "code",
   "execution_count": 8,
   "metadata": {
    "collapsed": false
   },
   "outputs": [
    {
     "ename": "TypeError",
     "evalue": "cannot concatenate 'str' and 'int' objects",
     "output_type": "error",
     "traceback": [
      "\u001b[0;31m---------------------------------------------------------------------------\u001b[0m",
      "\u001b[0;31mTypeError\u001b[0m                                 Traceback (most recent call last)",
      "\u001b[0;32m<ipython-input-8-e06078321f27>\u001b[0m in \u001b[0;36m<module>\u001b[0;34m()\u001b[0m\n\u001b[0;32m----> 1\u001b[0;31m \u001b[0;32mprint\u001b[0m \u001b[0;34m\"Hello\"\u001b[0m \u001b[0;34m+\u001b[0m \u001b[0;36m1\u001b[0m\u001b[0;34m\u001b[0m\u001b[0m\n\u001b[0m",
      "\u001b[0;31mTypeError\u001b[0m: cannot concatenate 'str' and 'int' objects"
     ]
    }
   ],
   "source": [
    "print \"Hello\" + 1"
   ]
  },
  {
   "cell_type": "code",
   "execution_count": 9,
   "metadata": {
    "collapsed": false
   },
   "outputs": [
    {
     "ename": "ValueError",
     "evalue": "invalid literal for int() with base 10: 'h'",
     "output_type": "error",
     "traceback": [
      "\u001b[0;31m---------------------------------------------------------------------------\u001b[0m",
      "\u001b[0;31mValueError\u001b[0m                                Traceback (most recent call last)",
      "\u001b[0;32m<ipython-input-9-14e370fa4650>\u001b[0m in \u001b[0;36m<module>\u001b[0;34m()\u001b[0m\n\u001b[0;32m----> 1\u001b[0;31m \u001b[0mint\u001b[0m\u001b[0;34m(\u001b[0m\u001b[0;34m\"h\"\u001b[0m\u001b[0;34m)\u001b[0m\u001b[0;34m\u001b[0m\u001b[0m\n\u001b[0m",
      "\u001b[0;31mValueError\u001b[0m: invalid literal for int() with base 10: 'h'"
     ]
    }
   ],
   "source": [
    "int(\"h\")"
   ]
  },
  {
   "cell_type": "code",
   "execution_count": 12,
   "metadata": {
    "collapsed": false
   },
   "outputs": [
    {
     "ename": "IndexError",
     "evalue": "string index out of range",
     "output_type": "error",
     "traceback": [
      "\u001b[0;31m---------------------------------------------------------------------------\u001b[0m",
      "\u001b[0;31mIndexError\u001b[0m                                Traceback (most recent call last)",
      "\u001b[0;32m<ipython-input-12-7b41945c24a6>\u001b[0m in \u001b[0;36m<module>\u001b[0;34m()\u001b[0m\n\u001b[0;32m----> 1\u001b[0;31m \u001b[0ms\u001b[0m\u001b[0;34m=\u001b[0m\u001b[0;34m\"hello\"\u001b[0m \u001b[0;34m;\u001b[0m \u001b[0;32mprint\u001b[0m \u001b[0ms\u001b[0m\u001b[0;34m[\u001b[0m\u001b[0;36m10\u001b[0m\u001b[0;34m]\u001b[0m\u001b[0;34m\u001b[0m\u001b[0m\n\u001b[0m",
      "\u001b[0;31mIndexError\u001b[0m: string index out of range"
     ]
    }
   ],
   "source": [
    "s=\"hello\" ; print s[10]"
   ]
  },
  {
   "cell_type": "code",
   "execution_count": 13,
   "metadata": {
    "collapsed": true
   },
   "outputs": [],
   "source": [
    "x = list()\n",
    "x = []"
   ]
  },
  {
   "cell_type": "code",
   "execution_count": 14,
   "metadata": {
    "collapsed": false
   },
   "outputs": [
    {
     "name": "stdout",
     "output_type": "stream",
     "text": [
      "[]\n"
     ]
    }
   ],
   "source": [
    "print x\n"
   ]
  },
  {
   "cell_type": "code",
   "execution_count": 15,
   "metadata": {
    "collapsed": true
   },
   "outputs": [],
   "source": [
    "x = [0]*100"
   ]
  },
  {
   "cell_type": "code",
   "execution_count": 16,
   "metadata": {
    "collapsed": false
   },
   "outputs": [
    {
     "name": "stdout",
     "output_type": "stream",
     "text": [
      "[0, 0, 0, 0, 0, 0, 0, 0, 0, 0, 0, 0, 0, 0, 0, 0, 0, 0, 0, 0, 0, 0, 0, 0, 0, 0, 0, 0, 0, 0, 0, 0, 0, 0, 0, 0, 0, 0, 0, 0, 0, 0, 0, 0, 0, 0, 0, 0, 0, 0, 0, 0, 0, 0, 0, 0, 0, 0, 0, 0, 0, 0, 0, 0, 0, 0, 0, 0, 0, 0, 0, 0, 0, 0, 0, 0, 0, 0, 0, 0, 0, 0, 0, 0, 0, 0, 0, 0, 0, 0, 0, 0, 0, 0, 0, 0, 0, 0, 0, 0]\n"
     ]
    }
   ],
   "source": [
    "print x"
   ]
  },
  {
   "cell_type": "code",
   "execution_count": 17,
   "metadata": {
    "collapsed": false
   },
   "outputs": [
    {
     "name": "stdout",
     "output_type": "stream",
     "text": [
      "[22, 33, 32, 18, 19, 20]\n",
      "[22, 33, 32, 18, 19, 20, 27]\n"
     ]
    }
   ],
   "source": [
    "studentAges = [22,33,32,18,19,20]\n",
    "\n",
    "print studentAges\n",
    "\n",
    "studentAges.append(27)\n",
    "\n",
    "print studentAges"
   ]
  },
  {
   "cell_type": "code",
   "execution_count": 18,
   "metadata": {
    "collapsed": false
   },
   "outputs": [
    {
     "name": "stdout",
     "output_type": "stream",
     "text": [
      "[22, 33, 32, 18, 19, 20]\n",
      "[22, 33, 32, 42, 19, 20]\n"
     ]
    }
   ],
   "source": [
    "studentAges = [22,33,32,18,19,20]\n",
    "\n",
    "print studentAges\n",
    "\n",
    "studentAges[3] = 42\n",
    "\n",
    "print studentAges"
   ]
  },
  {
   "cell_type": "code",
   "execution_count": 22,
   "metadata": {
    "collapsed": false
   },
   "outputs": [
    {
     "name": "stdout",
     "output_type": "stream",
     "text": [
      "['jack', 'and', 'jill', 'went', 'up', 'the', 'hill']\n",
      "['jack', 'and', 'went', 'up', 'the', 'hill']\n",
      "['and', 'went', 'up', 'the', 'hill']\n"
     ]
    }
   ],
   "source": [
    "rhyme = [\"jack\",\"and\",\"jill\",\"went\",\"up\",\"the\",\"hill\"]\n",
    "print rhyme\n",
    "\n",
    "del rhyme[2]\n",
    "print rhyme\n",
    "\n",
    "rhyme.remove(\"jack\")\n",
    "print rhyme"
   ]
  },
  {
   "cell_type": "code",
   "execution_count": 29,
   "metadata": {
    "collapsed": false
   },
   "outputs": [
    {
     "name": "stdout",
     "output_type": "stream",
     "text": [
      "6 3 1 3\n"
     ]
    }
   ],
   "source": [
    "x = [1,2,3]\n",
    "x = (1,2,3)\n",
    "\n",
    "print sum(x), max(x),min(x),len(x)\n"
   ]
  },
  {
   "cell_type": "code",
   "execution_count": 37,
   "metadata": {
    "collapsed": false
   },
   "outputs": [
    {
     "name": "stdout",
     "output_type": "stream",
     "text": [
      "()\n",
      "()\n",
      "(1, 2, 3)\n"
     ]
    }
   ],
   "source": [
    "x = tuple()\n",
    "print x\n",
    "\n",
    "x = ()\n",
    "print x\n",
    "\n",
    "x = (1,2,3)\n",
    "print x"
   ]
  },
  {
   "cell_type": "code",
   "execution_count": 38,
   "metadata": {
    "collapsed": false
   },
   "outputs": [
    {
     "ename": "AttributeError",
     "evalue": "'tuple' object has no attribute 'append'",
     "output_type": "error",
     "traceback": [
      "\u001b[0;31m---------------------------------------------------------------------------\u001b[0m",
      "\u001b[0;31mAttributeError\u001b[0m                            Traceback (most recent call last)",
      "\u001b[0;32m<ipython-input-38-6ac845aa5141>\u001b[0m in \u001b[0;36m<module>\u001b[0;34m()\u001b[0m\n\u001b[0;32m----> 1\u001b[0;31m \u001b[0mx\u001b[0m\u001b[0;34m.\u001b[0m\u001b[0mappend\u001b[0m\u001b[0;34m(\u001b[0m\u001b[0;36m4\u001b[0m\u001b[0;34m)\u001b[0m\u001b[0;34m\u001b[0m\u001b[0m\n\u001b[0m",
      "\u001b[0;31mAttributeError\u001b[0m: 'tuple' object has no attribute 'append'"
     ]
    }
   ],
   "source": [
    "x.append(4)"
   ]
  },
  {
   "cell_type": "code",
   "execution_count": 39,
   "metadata": {
    "collapsed": true
   },
   "outputs": [],
   "source": [
    "y=[1,2,3]\n",
    "x = tuple(y)"
   ]
  },
  {
   "cell_type": "code",
   "execution_count": 40,
   "metadata": {
    "collapsed": false
   },
   "outputs": [
    {
     "name": "stdout",
     "output_type": "stream",
     "text": [
      "(1, 2, 3)\n"
     ]
    }
   ],
   "source": [
    "print x"
   ]
  },
  {
   "cell_type": "code",
   "execution_count": 42,
   "metadata": {
    "collapsed": false
   },
   "outputs": [],
   "source": [
    "x = { 1:'jack' , 2:'jill', 3:'harry'}"
   ]
  },
  {
   "cell_type": "code",
   "execution_count": 43,
   "metadata": {
    "collapsed": false
   },
   "outputs": [
    {
     "name": "stdout",
     "output_type": "stream",
     "text": [
      "{1: 'jack', 2: 'jill', 3: 'harry'}\n"
     ]
    }
   ],
   "source": [
    "print x"
   ]
  },
  {
   "cell_type": "code",
   "execution_count": 44,
   "metadata": {
    "collapsed": false
   },
   "outputs": [
    {
     "name": "stdout",
     "output_type": "stream",
     "text": [
      "{1: 'jack', 2: 'jill', 3: 'harry', 4: 'sally'}\n"
     ]
    }
   ],
   "source": [
    "x = { 1:'jack' , 2:'jill', 3:'harry'}\n",
    "\n",
    "x[4] = \"sally\"\n",
    "\n",
    "print x"
   ]
  },
  {
   "cell_type": "code",
   "execution_count": 45,
   "metadata": {
    "collapsed": false
   },
   "outputs": [
    {
     "name": "stdout",
     "output_type": "stream",
     "text": [
      "{1: 'jack', 2: 'jill', 3: 'sally'}\n"
     ]
    }
   ],
   "source": [
    "x = { 1:'jack' , 2:'jill', 3:'harry'}\n",
    "\n",
    "x[3] = \"sally\"\n",
    "\n",
    "print x"
   ]
  },
  {
   "cell_type": "code",
   "execution_count": 46,
   "metadata": {
    "collapsed": false
   },
   "outputs": [
    {
     "name": "stdout",
     "output_type": "stream",
     "text": [
      "{1: 'jack', 3: 'sally'}\n"
     ]
    }
   ],
   "source": [
    "del x[2]\n",
    "print x"
   ]
  },
  {
   "cell_type": "code",
   "execution_count": 47,
   "metadata": {
    "collapsed": false
   },
   "outputs": [
    {
     "ename": "AttributeError",
     "evalue": "'dict' object has no attribute 'remove'",
     "output_type": "error",
     "traceback": [
      "\u001b[0;31m---------------------------------------------------------------------------\u001b[0m",
      "\u001b[0;31mAttributeError\u001b[0m                            Traceback (most recent call last)",
      "\u001b[0;32m<ipython-input-47-0f91c91c31ef>\u001b[0m in \u001b[0;36m<module>\u001b[0;34m()\u001b[0m\n\u001b[0;32m----> 1\u001b[0;31m \u001b[0mx\u001b[0m\u001b[0;34m.\u001b[0m\u001b[0mremove\u001b[0m\u001b[0;34m(\u001b[0m\u001b[0;36m1\u001b[0m\u001b[0;34m)\u001b[0m\u001b[0;34m\u001b[0m\u001b[0m\n\u001b[0m",
      "\u001b[0;31mAttributeError\u001b[0m: 'dict' object has no attribute 'remove'"
     ]
    }
   ],
   "source": [
    "x.remove(1)"
   ]
  },
  {
   "cell_type": "code",
   "execution_count": 51,
   "metadata": {
    "collapsed": true
   },
   "outputs": [],
   "source": [
    "s = \"1:'jack' , 2:'jill', 3:'harry'\""
   ]
  },
  {
   "cell_type": "code",
   "execution_count": 52,
   "metadata": {
    "collapsed": false
   },
   "outputs": [
    {
     "name": "stdout",
     "output_type": "stream",
     "text": [
      " 1:'jack' , 2:'jill', 3:'harry'\n"
     ]
    }
   ],
   "source": [
    "print s\n"
   ]
  },
  {
   "cell_type": "code",
   "execution_count": 53,
   "metadata": {
    "collapsed": false
   },
   "outputs": [
    {
     "ename": "ValueError",
     "evalue": "dictionary update sequence element #0 has length 1; 2 is required",
     "output_type": "error",
     "traceback": [
      "\u001b[0;31m---------------------------------------------------------------------------\u001b[0m",
      "\u001b[0;31mValueError\u001b[0m                                Traceback (most recent call last)",
      "\u001b[0;32m<ipython-input-53-32db23c22a8e>\u001b[0m in \u001b[0;36m<module>\u001b[0;34m()\u001b[0m\n\u001b[0;32m----> 1\u001b[0;31m \u001b[0my\u001b[0m \u001b[0;34m=\u001b[0m \u001b[0mdict\u001b[0m\u001b[0;34m(\u001b[0m\u001b[0ms\u001b[0m\u001b[0;34m)\u001b[0m\u001b[0;34m\u001b[0m\u001b[0m\n\u001b[0m",
      "\u001b[0;31mValueError\u001b[0m: dictionary update sequence element #0 has length 1; 2 is required"
     ]
    }
   ],
   "source": [
    "y = dict(s)"
   ]
  },
  {
   "cell_type": "code",
   "execution_count": 55,
   "metadata": {
    "collapsed": false
   },
   "outputs": [
    {
     "name": "stdout",
     "output_type": "stream",
     "text": [
      "1\n",
      "2\n",
      "3\n",
      "4\n",
      "5\n",
      "6\n",
      "7\n",
      "8\n",
      "9\n",
      "10\n"
     ]
    }
   ],
   "source": [
    "for i in range(1,11):\n",
    "    print i"
   ]
  },
  {
   "cell_type": "code",
   "execution_count": 60,
   "metadata": {
    "collapsed": false
   },
   "outputs": [
    {
     "name": "stdout",
     "output_type": "stream",
     "text": [
      "1 1\n",
      "2 3\n",
      "3 6\n",
      "4 10\n",
      "5 15\n",
      "6 21\n",
      "7 28\n",
      "8 36\n",
      "9 45\n",
      "10 55\n",
      "55\n"
     ]
    }
   ],
   "source": [
    "result = 0\n",
    "for i in range(1,11):\n",
    "    result = result + i\n",
    "    \n",
    "    print i,result\n",
    "    \n",
    "print result"
   ]
  },
  {
   "cell_type": "code",
   "execution_count": 61,
   "metadata": {
    "collapsed": false
   },
   "outputs": [
    {
     "name": "stdout",
     "output_type": "stream",
     "text": [
      "1\n",
      "2\n",
      "3\n",
      "4\n",
      "5\n",
      "6\n",
      "7\n",
      "8\n",
      "9\n",
      "10\n"
     ]
    }
   ],
   "source": [
    "count = 0\n",
    "while (count < 10):\n",
    "    count = count + 1\n",
    "    \n",
    "    print count"
   ]
  },
  {
   "cell_type": "code",
   "execution_count": 2,
   "metadata": {
    "collapsed": false
   },
   "outputs": [
    {
     "name": "stdout",
     "output_type": "stream",
     "text": [
      "Enter temperature in Centigrade:32\n",
      "Temperature in Fahrenheit: 89.6\n"
     ]
    },
    {
     "ename": "KeyboardInterrupt",
     "evalue": "",
     "output_type": "error",
     "traceback": [
      "\u001b[0;31m---------------------------------------------------------------------------\u001b[0m",
      "\u001b[0;31mKeyboardInterrupt\u001b[0m                         Traceback (most recent call last)",
      "\u001b[0;32m<ipython-input-2-20670ce1f2c2>\u001b[0m in \u001b[0;36m<module>\u001b[0;34m()\u001b[0m\n\u001b[1;32m      6\u001b[0m \u001b[0;32mprint\u001b[0m \u001b[0;34m\"Temperature in Fahrenheit:\"\u001b[0m\u001b[0;34m,\u001b[0m \u001b[0mfahrenheit\u001b[0m\u001b[0;34m\u001b[0m\u001b[0m\n\u001b[1;32m      7\u001b[0m \u001b[0;34m\u001b[0m\u001b[0m\n\u001b[0;32m----> 8\u001b[0;31m \u001b[0mfahrenheit\u001b[0m \u001b[0;34m=\u001b[0m \u001b[0mint\u001b[0m\u001b[0;34m(\u001b[0m\u001b[0mraw_input\u001b[0m\u001b[0;34m(\u001b[0m\u001b[0;34m\"Enter temperature in Fahrenheit:\"\u001b[0m\u001b[0;34m)\u001b[0m\u001b[0;34m)\u001b[0m\u001b[0;34m\u001b[0m\u001b[0m\n\u001b[0m\u001b[1;32m      9\u001b[0m \u001b[0mcentigrade\u001b[0m \u001b[0;34m=\u001b[0m \u001b[0;34m(\u001b[0m\u001b[0;36m5.0\u001b[0m\u001b[0;34m/\u001b[0m\u001b[0;36m9.0\u001b[0m\u001b[0;34m)\u001b[0m\u001b[0;34m*\u001b[0m\u001b[0;34m(\u001b[0m\u001b[0mfahrenheit\u001b[0m \u001b[0;34m-\u001b[0m \u001b[0;36m32\u001b[0m\u001b[0;34m)\u001b[0m\u001b[0;34m\u001b[0m\u001b[0m\n\u001b[1;32m     10\u001b[0m \u001b[0;34m\u001b[0m\u001b[0m\n",
      "\u001b[0;32m/Library/Python/2.7/site-packages/ipykernel/kernelbase.pyc\u001b[0m in \u001b[0;36mraw_input\u001b[0;34m(self, prompt)\u001b[0m\n\u001b[1;32m    692\u001b[0m             \u001b[0mself\u001b[0m\u001b[0;34m.\u001b[0m\u001b[0m_parent_ident\u001b[0m\u001b[0;34m,\u001b[0m\u001b[0;34m\u001b[0m\u001b[0m\n\u001b[1;32m    693\u001b[0m             \u001b[0mself\u001b[0m\u001b[0;34m.\u001b[0m\u001b[0m_parent_header\u001b[0m\u001b[0;34m,\u001b[0m\u001b[0;34m\u001b[0m\u001b[0m\n\u001b[0;32m--> 694\u001b[0;31m             \u001b[0mpassword\u001b[0m\u001b[0;34m=\u001b[0m\u001b[0mFalse\u001b[0m\u001b[0;34m,\u001b[0m\u001b[0;34m\u001b[0m\u001b[0m\n\u001b[0m\u001b[1;32m    695\u001b[0m         )\n\u001b[1;32m    696\u001b[0m \u001b[0;34m\u001b[0m\u001b[0m\n",
      "\u001b[0;32m/Library/Python/2.7/site-packages/ipykernel/kernelbase.pyc\u001b[0m in \u001b[0;36m_input_request\u001b[0;34m(self, prompt, ident, parent, password)\u001b[0m\n\u001b[1;32m    722\u001b[0m             \u001b[0;32mexcept\u001b[0m \u001b[0mKeyboardInterrupt\u001b[0m\u001b[0;34m:\u001b[0m\u001b[0;34m\u001b[0m\u001b[0m\n\u001b[1;32m    723\u001b[0m                 \u001b[0;31m# re-raise KeyboardInterrupt, to truncate traceback\u001b[0m\u001b[0;34m\u001b[0m\u001b[0;34m\u001b[0m\u001b[0m\n\u001b[0;32m--> 724\u001b[0;31m                 \u001b[0;32mraise\u001b[0m \u001b[0mKeyboardInterrupt\u001b[0m\u001b[0;34m\u001b[0m\u001b[0m\n\u001b[0m\u001b[1;32m    725\u001b[0m             \u001b[0;32melse\u001b[0m\u001b[0;34m:\u001b[0m\u001b[0;34m\u001b[0m\u001b[0m\n\u001b[1;32m    726\u001b[0m                 \u001b[0;32mbreak\u001b[0m\u001b[0;34m\u001b[0m\u001b[0m\n",
      "\u001b[0;31mKeyboardInterrupt\u001b[0m: "
     ]
    }
   ],
   "source": [
    "### YOUR CODE GOES BELOW\n",
    "\n",
    "centigrade = float(raw_input(\"Enter temperature in Centigrade:\"))\n",
    "fahrenheit = 9*centigrade/5 + 32\n",
    "\n",
    "print \"Temperature in Fahrenheit:\", fahrenheit\n",
    "\n",
    "fahrenheit = int(raw_input(\"Enter temperature in Fahrenheit:\"))\n",
    "centigrade = (5/9)*(fahrenheit - 32)\n",
    "\n",
    "print \"Temperature in Centigrade:\", centigrade\n",
    "\n",
    "### END CODE"
   ]
  },
  {
   "cell_type": "code",
   "execution_count": 5,
   "metadata": {
    "collapsed": false
   },
   "outputs": [
    {
     "data": {
      "text/plain": [
       "0.5555555555555556"
      ]
     },
     "execution_count": 5,
     "metadata": {},
     "output_type": "execute_result"
    }
   ],
   "source": [
    "5/9.0"
   ]
  },
  {
   "cell_type": "code",
   "execution_count": 6,
   "metadata": {
    "collapsed": false
   },
   "outputs": [
    {
     "name": "stdout",
     "output_type": "stream",
     "text": [
      "Harry age is less than Sally age\n"
     ]
    }
   ],
   "source": [
    "harryAge = raw_input(\"Enter Harry's age:\")\n",
    "sallyAge = raw_input(\"Enter Sally's age:\")\n",
    "maryAge = raw_input(\"Enter Mary's age:\")\n",
    "\n",
    "#if (harryAge < 20 and ...):\n",
    "#    print \"Harry's age\"\n",
    "    \n",
    "print (\"%s age is less than %s age\") % (\"Harry\",\"Sally\")"
   ]
  },
  {
   "cell_type": "code",
   "execution_count": 10,
   "metadata": {
    "collapsed": false
   },
   "outputs": [
    {
     "name": "stdout",
     "output_type": "stream",
     "text": [
      "1 1\n",
      "2 2\n",
      "6 3\n",
      "24 4\n",
      "120 5\n",
      "720 6\n",
      "5040 7\n",
      "40320 8\n",
      "362880 9\n",
      "362880\n"
     ]
    }
   ],
   "source": [
    "result  = 1\n",
    "for i in range(1,10):\n",
    "    \n",
    "    \n",
    "    result = result*i\n",
    "    \n",
    "    print result,i\n",
    "\n",
    "print result\n",
    "\n",
    "    "
   ]
  },
  {
   "cell_type": "code",
   "execution_count": 17,
   "metadata": {
    "collapsed": false
   },
   "outputs": [
    {
     "name": "stdout",
     "output_type": "stream",
     "text": [
      "Hello\n",
      "Hello Tom\n"
     ]
    },
    {
     "data": {
      "text/plain": [
       "'o'"
      ]
     },
     "execution_count": 17,
     "metadata": {},
     "output_type": "execute_result"
    }
   ],
   "source": [
    "greeting = \"Hello\"\n",
    "\n",
    "print greeting\n",
    "\n",
    "print greeting + \" Tom\"\n",
    "\n",
    "greeting[len(greeting)-1]"
   ]
  },
  {
   "cell_type": "code",
   "execution_count": 28,
   "metadata": {
    "collapsed": false
   },
   "outputs": [
    {
     "ename": "ValueError",
     "evalue": "invalid literal for int() with base 10: '50000.32'",
     "output_type": "error",
     "traceback": [
      "\u001b[0;31m---------------------------------------------------------------------------\u001b[0m",
      "\u001b[0;31mValueError\u001b[0m                                Traceback (most recent call last)",
      "\u001b[0;32m<ipython-input-28-52d8d497d122>\u001b[0m in \u001b[0;36m<module>\u001b[0;34m()\u001b[0m\n\u001b[1;32m      5\u001b[0m \u001b[0msalary\u001b[0m \u001b[0;34m=\u001b[0m \u001b[0;34m\"50000.32\"\u001b[0m\u001b[0;34m\u001b[0m\u001b[0m\n\u001b[1;32m      6\u001b[0m \u001b[0;34m\u001b[0m\u001b[0m\n\u001b[0;32m----> 7\u001b[0;31m \u001b[0;32mprint\u001b[0m \u001b[0mint\u001b[0m\u001b[0;34m(\u001b[0m\u001b[0msalary\u001b[0m\u001b[0;34m)\u001b[0m\u001b[0;34m\u001b[0m\u001b[0m\n\u001b[0m",
      "\u001b[0;31mValueError\u001b[0m: invalid literal for int() with base 10: '50000.32'"
     ]
    }
   ],
   "source": [
    "greeting = \"Hello\"\n",
    "\n",
    "salary = 50000.32\n",
    "\n",
    "salary = \"50000.32\"\n",
    "\n",
    "print int(salary)"
   ]
  },
  {
   "cell_type": "code",
   "execution_count": 35,
   "metadata": {
    "collapsed": false
   },
   "outputs": [
    {
     "name": "stdout",
     "output_type": "stream",
     "text": [
      "x: []\n",
      "y: [1, 2, 3]\n",
      "z: [1, 2, 3, 4, 'Harry', 'Sally']\n",
      "[1, 2, 3, 4, 5]\n"
     ]
    }
   ],
   "source": [
    "x = []\n",
    "\n",
    "y = list([1,2,3])\n",
    "\n",
    "z = [1,2,3,4,\"Harry\",\"Sally\"]\n",
    "\n",
    "print \"x:\",x\n",
    "\n",
    "print \"y:\",y\n",
    "\n",
    "print \"z:\",z\n",
    "\n",
    "print range(1,6)"
   ]
  },
  {
   "cell_type": "code",
   "execution_count": 51,
   "metadata": {
    "collapsed": false
   },
   "outputs": [
    {
     "name": "stdout",
     "output_type": "stream",
     "text": [
      "[1, 2, 'Mary', 'Mary', 'Mary', 3, 4, 'Harry', 'Sally', 'Joe', 1, 2, 3, 1, 2, 3, 1, 2, 3, 1, 2, 1]\n",
      "len: 22\n",
      "z[0]:1\n",
      "z[1]:2\n",
      "z[2]:Mary\n",
      "z[3]:Mary\n",
      "z[4]:Mary\n",
      "z[5]:3\n",
      "z[6]:4\n",
      "z[7]:Harry\n",
      "z[8]:Sally\n",
      "z[9]:Joe\n",
      "z[10]:1\n",
      "z[11]:2\n",
      "z[12]:3\n",
      "z[13]:1\n",
      "z[14]:2\n",
      "z[15]:3\n",
      "z[16]:1\n",
      "z[17]:2\n",
      "z[18]:3\n",
      "z[19]:1\n",
      "z[20]:2\n",
      "z[21]:1\n",
      "Updated list: [1, 2, 'Mary', 'Mary', 'Mary', 3, 4, 'Harry', 'Sally', 'Joe', 1, 2, 3, 1, 2, 3, 1, 2, 3, 1, 2, 1, 1, 2, 3]\n",
      "Updated list: [1, 2, 'Mary', 'Mary', 'Mary', 'Mary', 3, 4, 'Harry', 'Sally', 'Joe', 1, 2, 3, 1, 2, 3, 1, 2, 3, 1, 2, 1, 1, 2, 3]\n"
     ]
    }
   ],
   "source": [
    "print z\n",
    "\n",
    "print \"len:\",len(z)\n",
    "\n",
    "for index in range(0,len(z)):\n",
    "    print (\"z[%s]:%s\") % (index,z[index])\n",
    "    \n",
    "z = z + y\n",
    "\n",
    "print \"Updated list:\", z\n",
    "\n",
    "z.insert(2,\"Mary\")\n",
    "\n",
    "print \"Updated list:\", z\n",
    "\n",
    "z.pop()\n",
    "\n",
    "?z.pop()"
   ]
  },
  {
   "cell_type": "code",
   "execution_count": 54,
   "metadata": {
    "collapsed": false
   },
   "outputs": [
    {
     "name": "stdout",
     "output_type": "stream",
     "text": [
      "[1, 2, 'Mary', 'Mary', 'Mary', 'Mary', 3, 4, 'Harry', 'Sally', 'Joe', 1, 2, 3, 1, 2, 3, 1, 2, 3, 1, 2, 1, 1, 2]\n"
     ]
    }
   ],
   "source": [
    "print z"
   ]
  },
  {
   "cell_type": "code",
   "execution_count": 59,
   "metadata": {
    "collapsed": false
   },
   "outputs": [
    {
     "name": "stdout",
     "output_type": "stream",
     "text": [
      "Hello Harry, meet Sally\n",
      "Hello Harry, meet Sally. She is 49 years old\n"
     ]
    }
   ],
   "source": [
    "name = \"Harry\"\n",
    "friend = \"Sally\"\n",
    "age = 49\n",
    "\n",
    "print \"Hello Harry, meet Sally\"\n",
    "\n",
    "print (\"Hello %s, meet %s. She is %d years old\") % (name,friend,age)"
   ]
  },
  {
   "cell_type": "code",
   "execution_count": 60,
   "metadata": {
    "collapsed": false
   },
   "outputs": [
    {
     "name": "stdout",
     "output_type": "stream",
     "text": [
      "[1, 2, 'Mary', 'Mary', 'Mary', 'Mary', 3, 4, 'Harry', 'Sally', 'Joe', 1, 2, 3, 1, 2, 3, 1, 2, 3, 1, 2, 1, 1, 2]\n"
     ]
    }
   ],
   "source": [
    "print z"
   ]
  },
  {
   "cell_type": "code",
   "execution_count": 61,
   "metadata": {
    "collapsed": false
   },
   "outputs": [
    {
     "name": "stdout",
     "output_type": "stream",
     "text": [
      "[1, 2, 'Sarah', 'Mary', 'Mary', 'Mary', 3, 4, 'Harry', 'Sally', 'Joe', 1, 2, 3, 1, 2, 3, 1, 2, 3, 1, 2, 1, 1, 2]\n"
     ]
    }
   ],
   "source": [
    "z[2] = \"Sarah\"\n",
    "\n",
    "print z"
   ]
  },
  {
   "cell_type": "code",
   "execution_count": 62,
   "metadata": {
    "collapsed": false
   },
   "outputs": [
    {
     "name": "stdout",
     "output_type": "stream",
     "text": [
      "[1, 2, 'Sarah', 'Mary', 'Mary', 'Mary', 3, 4, 'Harry', 'Sally', 1, 2, 3, 1, 2, 3, 1, 2, 3, 1, 2, 1, 1, 2]\n"
     ]
    }
   ],
   "source": [
    "del z[10]\n",
    "\n",
    "print z"
   ]
  },
  {
   "cell_type": "code",
   "execution_count": 63,
   "metadata": {
    "collapsed": false
   },
   "outputs": [
    {
     "name": "stdout",
     "output_type": "stream",
     "text": [
      "[1, 2, 'Sarah', 'Mary', 'Mary', 'Mary', 3, 4, 'Harry', 1, 2, 3, 1, 2, 3, 1, 2, 3, 1, 2, 1, 1, 2]\n"
     ]
    }
   ],
   "source": [
    "z.remove(\"Sally\")\n",
    "\n",
    "print z"
   ]
  },
  {
   "cell_type": "code",
   "execution_count": 67,
   "metadata": {
    "collapsed": false
   },
   "outputs": [
    {
     "name": "stdout",
     "output_type": "stream",
     "text": [
      "[1, 2, 'Sarah', 3, 4, 'Harry', 1, 2, 3, 1, 2, 3, 1, 2, 3, 1, 2, 1, 1, 2, 'Mary']\n"
     ]
    }
   ],
   "source": [
    "z.append(\"Mary\")\n",
    "\n",
    "print z"
   ]
  },
  {
   "cell_type": "code",
   "execution_count": 69,
   "metadata": {
    "collapsed": false
   },
   "outputs": [
    {
     "name": "stdout",
     "output_type": "stream",
     "text": [
      "['1', '2', '3', '4', '5']\n"
     ]
    }
   ],
   "source": [
    "numbers = \"1,2,3,4,5\"\n",
    "\n",
    "numbersList = numbers.split(\",\")\n",
    "\n",
    "print numbersList"
   ]
  },
  {
   "cell_type": "code",
   "execution_count": 72,
   "metadata": {
    "collapsed": false
   },
   "outputs": [
    {
     "name": "stdout",
     "output_type": "stream",
     "text": [
      "1   2   Sarah   3   4   Harry   1   2   3   1   2   3   1   2   3   1   2   1   1   2   Mary  \n"
     ]
    }
   ],
   "source": [
    "for i in z:\n",
    "    print i,\" \","
   ]
  },
  {
   "cell_type": "code",
   "execution_count": 75,
   "metadata": {
    "collapsed": false
   },
   "outputs": [
    {
     "data": {
      "text/plain": [
       "15"
      ]
     },
     "execution_count": 75,
     "metadata": {},
     "output_type": "execute_result"
    }
   ],
   "source": [
    "numbers = [1,2,3,4,5]\n",
    "sum(numbers)"
   ]
  },
  {
   "cell_type": "code",
   "execution_count": 78,
   "metadata": {
    "collapsed": false
   },
   "outputs": [
    {
     "name": "stdout",
     "output_type": "stream",
     "text": [
      "5 1 5\n"
     ]
    }
   ],
   "source": [
    "print max(numbers),  min(numbers),  len(numbers)"
   ]
  },
  {
   "cell_type": "code",
   "execution_count": 88,
   "metadata": {
    "collapsed": false
   },
   "outputs": [
    {
     "name": "stdout",
     "output_type": "stream",
     "text": [
      "<type 'tuple'>\n",
      "<type 'tuple'>\n",
      "Harry\n"
     ]
    }
   ],
   "source": [
    "firstTuple = (1,2,3)\n",
    "\n",
    "print type(firstTuple)\n",
    "\n",
    "firstTuple = firstTuple + firstTuple\n",
    "\n",
    "print type(firstTuple)\n",
    "\n",
    "x = 5\n",
    "\n",
    "x = \"Harry\"\n",
    "\n",
    "print x"
   ]
  },
  {
   "cell_type": "code",
   "execution_count": 89,
   "metadata": {
    "collapsed": false
   },
   "outputs": [
    {
     "name": "stdout",
     "output_type": "stream",
     "text": [
      "(1, 2, 3, 1, 2, 3)\n"
     ]
    }
   ],
   "source": [
    "print firstTuple"
   ]
  },
  {
   "cell_type": "code",
   "execution_count": 93,
   "metadata": {
    "collapsed": false
   },
   "outputs": [
    {
     "data": {
      "text/plain": [
       "6"
      ]
     },
     "execution_count": 93,
     "metadata": {},
     "output_type": "execute_result"
    }
   ],
   "source": [
    "len(firstTuple)"
   ]
  },
  {
   "cell_type": "code",
   "execution_count": 95,
   "metadata": {
    "collapsed": false
   },
   "outputs": [
    {
     "ename": "TypeError",
     "evalue": "'tuple' object doesn't support item deletion",
     "output_type": "error",
     "traceback": [
      "\u001b[0;31m---------------------------------------------------------------------------\u001b[0m",
      "\u001b[0;31mTypeError\u001b[0m                                 Traceback (most recent call last)",
      "\u001b[0;32m<ipython-input-95-3fe17678856c>\u001b[0m in \u001b[0;36m<module>\u001b[0;34m()\u001b[0m\n\u001b[0;32m----> 1\u001b[0;31m \u001b[0;32mdel\u001b[0m \u001b[0mfirstTuple\u001b[0m\u001b[0;34m[\u001b[0m\u001b[0;36m0\u001b[0m\u001b[0;34m]\u001b[0m\u001b[0;34m\u001b[0m\u001b[0m\n\u001b[0m",
      "\u001b[0;31mTypeError\u001b[0m: 'tuple' object doesn't support item deletion"
     ]
    }
   ],
   "source": [
    "del firstTuple[0]"
   ]
  },
  {
   "cell_type": "code",
   "execution_count": 96,
   "metadata": {
    "collapsed": false
   },
   "outputs": [
    {
     "name": "stdout",
     "output_type": "stream",
     "text": [
      "1\n",
      "2\n",
      "3\n",
      "1\n",
      "2\n",
      "3\n"
     ]
    }
   ],
   "source": [
    "for i in firstTuple:\n",
    "    print i"
   ]
  },
  {
   "cell_type": "code",
   "execution_count": 97,
   "metadata": {
    "collapsed": false
   },
   "outputs": [
    {
     "name": "stdout",
     "output_type": "stream",
     "text": [
      "{1: 'Mary', 2: 'Susan'}\n"
     ]
    }
   ],
   "source": [
    "x = {1:\"Mary\",2:\"Susan\"}\n",
    "\n",
    "print x"
   ]
  },
  {
   "cell_type": "code",
   "execution_count": 101,
   "metadata": {
    "collapsed": false
   },
   "outputs": [
    {
     "name": "stdout",
     "output_type": "stream",
     "text": [
      "{1: 'Mary', 2: 'Susan', 'Sally': 'Joe', 4: 'Joe'}\n"
     ]
    }
   ],
   "source": [
    "x[\"Sally\"] = \"Joe\"\n",
    "\n",
    "print x"
   ]
  },
  {
   "cell_type": "code",
   "execution_count": 102,
   "metadata": {
    "collapsed": false
   },
   "outputs": [
    {
     "data": {
      "text/plain": [
       "'Joe'"
      ]
     },
     "execution_count": 102,
     "metadata": {},
     "output_type": "execute_result"
    }
   ],
   "source": [
    "x['Sally']"
   ]
  },
  {
   "cell_type": "code",
   "execution_count": 108,
   "metadata": {
    "collapsed": false
   },
   "outputs": [
    {
     "name": "stdout",
     "output_type": "stream",
     "text": [
      "Dinner\n"
     ]
    }
   ],
   "source": [
    "x[6] = \"Dinner\"\n",
    "if x.get(6) == None:\n",
    "    print \"The key does not exist\"\n",
    "else:\n",
    "    print x[6]"
   ]
  },
  {
   "cell_type": "code",
   "execution_count": 110,
   "metadata": {
    "collapsed": false
   },
   "outputs": [
    {
     "name": "stdout",
     "output_type": "stream",
     "text": [
      "{1: 'Mary', 2: 'Susan', 'Sally': 'Joe', 4: 'Joe', 6: ['Breakfast', 'Lunch', 'Dinner']}\n"
     ]
    }
   ],
   "source": [
    "x[6] = ['Breakfast','Lunch','Dinner']\n",
    "\n",
    "print x"
   ]
  },
  {
   "cell_type": "code",
   "execution_count": 112,
   "metadata": {
    "collapsed": false
   },
   "outputs": [],
   "source": [
    "del x[6]"
   ]
  },
  {
   "cell_type": "code",
   "execution_count": 113,
   "metadata": {
    "collapsed": false
   },
   "outputs": [
    {
     "name": "stdout",
     "output_type": "stream",
     "text": [
      "{1: 'Mary', 2: 'Susan', 'Sally': 'Joe', 4: 'Joe'}\n"
     ]
    }
   ],
   "source": [
    "print x"
   ]
  },
  {
   "cell_type": "code",
   "execution_count": 114,
   "metadata": {
    "collapsed": false
   },
   "outputs": [
    {
     "name": "stdout",
     "output_type": "stream",
     "text": [
      "{1: 'Mary', 2: 'Susan', 'Sally': 'Joe', 4: 'Joe'}\n"
     ]
    }
   ],
   "source": [
    "print x"
   ]
  },
  {
   "cell_type": "code",
   "execution_count": 115,
   "metadata": {
    "collapsed": false
   },
   "outputs": [
    {
     "name": "stdout",
     "output_type": "stream",
     "text": [
      "['Mary', 'Susan', 'Joe', 'Joe']\n"
     ]
    }
   ],
   "source": [
    "print x.values()"
   ]
  },
  {
   "cell_type": "code",
   "execution_count": 119,
   "metadata": {
    "collapsed": false
   },
   "outputs": [
    {
     "name": "stdout",
     "output_type": "stream",
     "text": [
      "False\n"
     ]
    }
   ],
   "source": [
    "print 5 in x.keys()"
   ]
  },
  {
   "cell_type": "code",
   "execution_count": 123,
   "metadata": {
    "collapsed": false
   },
   "outputs": [
    {
     "name": "stdout",
     "output_type": "stream",
     "text": [
      "Mary\n",
      "Susan\n",
      "Joe\n",
      "Joe\n"
     ]
    }
   ],
   "source": [
    "for value in x.values():\n",
    "    print value"
   ]
  },
  {
   "cell_type": "code",
   "execution_count": 124,
   "metadata": {
    "collapsed": false
   },
   "outputs": [
    {
     "ename": "SyntaxError",
     "evalue": "invalid syntax (<ipython-input-124-c607638aebdf>, line 401)",
     "output_type": "error",
     "traceback": [
      "\u001b[0;36m  File \u001b[0;32m\"<ipython-input-124-c607638aebdf>\"\u001b[0;36m, line \u001b[0;32m401\u001b[0m\n\u001b[0;31m    (py27) PACCPL-F2E9DV7NA:fall2017classwork sdorai000$ cat temp.txt  | awk '{print \"\\x27\"$0\"\\x27,\"}'  > temp1.txt\u001b[0m\n\u001b[0m                ^\u001b[0m\n\u001b[0;31mSyntaxError\u001b[0m\u001b[0;31m:\u001b[0m invalid syntax\n"
     ]
    }
   ],
   "source": [
    "addressList = ['Cecilia Chapman',\n",
    "'711-2880 Nulla St.',\n",
    "'Mankato Mississippi 96522',\n",
    "'(257) 563-7401',\n",
    "'Iris Watson',\n",
    "'P.O. Box 283 8562 Fusce Rd.',\n",
    "'Frederick Nebraska 20620',\n",
    "'(372) 587-2335',\n",
    "'Celeste Slater',\n",
    "'606-3727 Ullamcorper. Street',\n",
    "'Roseville NH 11523',\n",
    "'(786) 713-8616',\n",
    "'Theodore Lowe',\n",
    "'Ap #867-859 Sit Rd.',\n",
    "'Azusa New York 39531',\n",
    "'(793) 151-6230',\n",
    "'Calista Wise',\n",
    "'7292 Dictum Av.',\n",
    "'San Antonio MI 47096',\n",
    "'(492) 709-6392',\n",
    "'Kyla Olsen',\n",
    "'Ap #651-8679 Sodales Av.',\n",
    "'Tamuning PA 10855',\n",
    "'(654) 393-5734',\n",
    "'Forrest Ray',\n",
    "'191-103 Integer Rd.',\n",
    "'Corona New Mexico 08219',\n",
    "'(404) 960-3807',\n",
    "'Hiroko Potter',\n",
    "'P.O. Box 887 2508 Dolor. Av.',\n",
    "'Muskegon KY 12482',\n",
    "'(314) 244-6306',\n",
    "'Nyssa Vazquez',\n",
    "'511-5762 At Rd.',\n",
    "'Chelsea MI 67708',\n",
    "'(947) 278-5929',\n",
    "'Lawrence Moreno',\n",
    "'935-9940 Tortor. Street',\n",
    "'Santa Rosa MN 98804',\n",
    "'(684) 579-1879',\n",
    "'Ina Moran',\n",
    "'P.O. Box 929 4189 Nunc Road',\n",
    "'Lebanon KY 69409',\n",
    "'(389) 737-2852',\n",
    "'Aaron Hawkins',\n",
    "'5587 Nunc. Avenue',\n",
    "'Erie Rhode Island 24975',\n",
    "'(660) 663-4518',\n",
    "'Hedy Greene',\n",
    "'Ap #696-3279 Viverra. Avenue',\n",
    "'Latrobe DE 38100',\n",
    "'(608) 265-2215',\n",
    "'Melvin Porter',\n",
    "'P.O. Box 132 1599 Curabitur Rd.',\n",
    "'Bandera South Dakota 45149',\n",
    "'(959) 119-8364',\n",
    "'Keefe Sellers',\n",
    "'347-7666 Iaculis St.',\n",
    "'Woodruff SC 49854',\n",
    "'(468) 353-2641',\n",
    "'Joan Romero',\n",
    "'666-4366 Lacinia Avenue',\n",
    "'Idaho Falls Ohio 19253',\n",
    "'(248) 675-4007',\n",
    "'Davis Patrick',\n",
    "'P.O. Box 147 2546 Sociosqu Rd.',\n",
    "'Bethlehem Utah 02913',\n",
    "'(939) 353-1107',\n",
    "'Leilani Boyer',\n",
    "'557-6308 Lacinia Road',\n",
    "'San Bernardino ND 09289',\n",
    "'(570) 873-7090',\n",
    "'Colby Bernard',\n",
    "'Ap #285-7193 Ullamcorper Avenue',\n",
    "'Amesbury HI 93373',\n",
    "'(302) 259-2375',\n",
    "'Bryar Pitts',\n",
    "'5543 Aliquet St.',\n",
    "'Fort Dodge GA 20783',\n",
    "'(717) 450-4729',\n",
    "'Rahim Henderson',\n",
    "'5037 Diam Rd.',\n",
    "'Daly City Ohio 90255',\n",
    "'(453) 391-4650',\n",
    "'Noelle Adams',\n",
    "'6351 Fringilla Avenue',\n",
    "'Gardena Colorado 37547',\n",
    "'(559) 104-5475',\n",
    "'Lillith Daniel',\n",
    "'935-1670 Neque. St.',\n",
    "'Centennial Delaware 48432',\n",
    "'(387) 142-9434',\n",
    "'Adria Russell',\n",
    "'414-7533 Non Rd.',\n",
    "'Miami Beach North Dakota 58563',\n",
    "'(516) 745-4496',\n",
    "'Hilda Haynes',\n",
    "'778-9383 Suspendisse Av.',\n",
    "'Weirton IN 93479',\n",
    "'(326) 677-3419',\n",
    "'Sheila Mcintosh',\n",
    "'P.O. Box 360 4407 Et Rd.',\n",
    "'Santa Monica FL 30309',\n",
    "'(746) 679-2470',\n",
    "'Rebecca Chambers',\n",
    "'P.O. Box 813 5982 Sit Ave',\n",
    "'Liberal Vermont 51324',\n",
    "'(455) 430-0989',\n",
    "'Christian Emerson',\n",
    "'P.O. Box 886 4118 Arcu St.',\n",
    "'Rolling Hills Georgia 92358',\n",
    "'(490) 936-4694',\n",
    "'Nevada Ware',\n",
    "'P.O. Box 597 4156 Tincidunt Ave',\n",
    "'Green Bay Indiana 19759',\n",
    "'(985) 834-8285',\n",
    "'Margaret Joseph',\n",
    "'P.O. Box 508 3919 Gravida St.',\n",
    "'Tamuning Washington 55797',\n",
    "'(662) 661-1446',\n",
    "'Edward Nieves',\n",
    "'928-3313 Vel Av.',\n",
    "'Idaho Falls Rhode Island 37232',\n",
    "'(802) 668-8240',\n",
    "'Imani Talley',\n",
    "'P.O. Box 262 4978 Sit St.',\n",
    "'Yigo Massachusetts 50654',\n",
    "'(477) 768-9247',\n",
    "'Bertha Riggs',\n",
    "'P.O. Box 206 6639 In St.',\n",
    "'Easthampton TN 31626',\n",
    "'(791) 239-9057',\n",
    "'Wallace Ross',\n",
    "'313 Pellentesque Ave',\n",
    "'Villa Park Hawaii 43526',\n",
    "'(832) 109-0213',\n",
    "'Chester Bennett',\n",
    "'3476 Aliquet. Ave',\n",
    "'Minot AZ 95302',\n",
    "'(837) 196-3274',\n",
    "'Castor Richardson',\n",
    "'P.O. Box 902 3472 Ullamcorper Street',\n",
    "'Lynchburg DC 29738',\n",
    "'(268) 442-2428',\n",
    "'Sonya Jordan',\n",
    "'Ap #443-336 Ullamcorper. Street',\n",
    "'Visalia VA 54886',\n",
    "'(850) 676-5117',\n",
    "'Harrison Mcguire',\n",
    "'574-8633 Arcu Street',\n",
    "'San Fernando ID 77373',\n",
    "'(861) 546-5032',\n",
    "'Malcolm Long',\n",
    "'9291 Proin Road',\n",
    "'Lake Charles Maine 11292',\n",
    "'(176) 805-4108',\n",
    "'Raymond Levy',\n",
    "'Ap #643-7006 Risus St.',\n",
    "'Beaumont New Mexico 73585',\n",
    "\n"
   ]
  },
  {
   "cell_type": "code",
   "execution_count": 125,
   "metadata": {
    "collapsed": true
   },
   "outputs": [],
   "source": [
    "addressList = ['Cecilia Chapman',\n",
    "'711-2880 Nulla St.',\n",
    "'Mankato Mississippi 96522',\n",
    "'(257) 563-7401',\n",
    "'Iris Watson',\n",
    "'P.O. Box 283 8562 Fusce Rd.',\n",
    "'Frederick Nebraska 20620',\n",
    "'(372) 587-2335',\n",
    "'Celeste Slater',\n",
    "'606-3727 Ullamcorper. Street',\n",
    "'Roseville NH 11523',\n",
    "'(786) 713-8616',\n",
    "'Theodore Lowe',\n",
    "'Ap #867-859 Sit Rd.',\n",
    "'Azusa New York 39531',\n",
    "'(793) 151-6230',\n",
    "'Calista Wise',\n",
    "'7292 Dictum Av.',\n",
    "'San Antonio MI 47096',\n",
    "'(492) 709-6392',\n",
    "'Kyla Olsen',\n",
    "'Ap #651-8679 Sodales Av.',\n",
    "'Tamuning PA 10855',\n",
    "'(654) 393-5734',\n",
    "'Forrest Ray',\n",
    "'191-103 Integer Rd.',\n",
    "'Corona New Mexico 08219',\n",
    "'(404) 960-3807',\n",
    "'Hiroko Potter',\n",
    "'P.O. Box 887 2508 Dolor. Av.',\n",
    "'Muskegon KY 12482',\n",
    "'(314) 244-6306',\n",
    "'Nyssa Vazquez',\n",
    "'511-5762 At Rd.',\n",
    "'Chelsea MI 67708',\n",
    "'(947) 278-5929',\n",
    "'Lawrence Moreno',\n",
    "'935-9940 Tortor. Street',\n",
    "'Santa Rosa MN 98804',\n",
    "'(684) 579-1879',\n",
    "'Ina Moran',\n",
    "'P.O. Box 929 4189 Nunc Road',\n",
    "'Lebanon KY 69409',\n",
    "'(389) 737-2852',\n",
    "'Aaron Hawkins',\n",
    "'5587 Nunc. Avenue',\n",
    "'Erie Rhode Island 24975',\n",
    "'(660) 663-4518',\n",
    "'Hedy Greene',\n",
    "'Ap #696-3279 Viverra. Avenue',\n",
    "'Latrobe DE 38100',\n",
    "'(608) 265-2215',\n",
    "'Melvin Porter',\n",
    "'P.O. Box 132 1599 Curabitur Rd.',\n",
    "'Bandera South Dakota 45149',\n",
    "'(959) 119-8364',\n",
    "'Keefe Sellers',\n",
    "'347-7666 Iaculis St.',\n",
    "'Woodruff SC 49854',\n",
    "'(468) 353-2641',\n",
    "'Joan Romero',\n",
    "'666-4366 Lacinia Avenue',\n",
    "'Idaho Falls Ohio 19253',\n",
    "'(248) 675-4007',\n",
    "'Davis Patrick',\n",
    "'P.O. Box 147 2546 Sociosqu Rd.',\n",
    "'Bethlehem Utah 02913',\n",
    "'(939) 353-1107',\n",
    "'Leilani Boyer',\n",
    "'557-6308 Lacinia Road',\n",
    "'San Bernardino ND 09289',\n",
    "'(570) 873-7090',\n",
    "'Colby Bernard',\n",
    "'Ap #285-7193 Ullamcorper Avenue',\n",
    "'Amesbury HI 93373',\n",
    "'(302) 259-2375',\n",
    "'Bryar Pitts',\n",
    "'5543 Aliquet St.',\n",
    "'Fort Dodge GA 20783',\n",
    "'(717) 450-4729',\n",
    "'Rahim Henderson',\n",
    "'5037 Diam Rd.',\n",
    "'Daly City Ohio 90255',\n",
    "'(453) 391-4650',\n",
    "'Noelle Adams',\n",
    "'6351 Fringilla Avenue',\n",
    "'Gardena Colorado 37547',\n",
    "'(559) 104-5475',\n",
    "'Lillith Daniel',\n",
    "'935-1670 Neque. St.',\n",
    "'Centennial Delaware 48432',\n",
    "'(387) 142-9434',\n",
    "'Adria Russell',\n",
    "'414-7533 Non Rd.',\n",
    "'Miami Beach North Dakota 58563',\n",
    "'(516) 745-4496',\n",
    "'Hilda Haynes',\n",
    "'778-9383 Suspendisse Av.',\n",
    "'Weirton IN 93479',\n",
    "'(326) 677-3419',\n",
    "'Sheila Mcintosh',\n",
    "'P.O. Box 360 4407 Et Rd.',\n",
    "'Santa Monica FL 30309',\n",
    "'(746) 679-2470',\n",
    "'Rebecca Chambers',\n",
    "'P.O. Box 813 5982 Sit Ave',\n",
    "'Liberal Vermont 51324',\n",
    "'(455) 430-0989',\n",
    "'Christian Emerson',\n",
    "'P.O. Box 886 4118 Arcu St.',\n",
    "'Rolling Hills Georgia 92358',\n",
    "'(490) 936-4694',\n",
    "'Nevada Ware',\n",
    "'P.O. Box 597 4156 Tincidunt Ave',\n",
    "'Green Bay Indiana 19759',\n",
    "'(985) 834-8285',\n",
    "'Margaret Joseph',\n",
    "'P.O. Box 508 3919 Gravida St.',\n",
    "'Tamuning Washington 55797',\n",
    "'(662) 661-1446',\n",
    "'Edward Nieves',\n",
    "'928-3313 Vel Av.',\n",
    "'Idaho Falls Rhode Island 37232',\n",
    "'(802) 668-8240',\n",
    "'Imani Talley',\n",
    "'P.O. Box 262 4978 Sit St.',\n",
    "'Yigo Massachusetts 50654',\n",
    "'(477) 768-9247',\n",
    "'Bertha Riggs',\n",
    "'P.O. Box 206 6639 In St.',\n",
    "'Easthampton TN 31626',\n",
    "'(791) 239-9057',\n",
    "'Wallace Ross',\n",
    "'313 Pellentesque Ave',\n",
    "'Villa Park Hawaii 43526',\n",
    "'(832) 109-0213',\n",
    "'Chester Bennett',\n",
    "'3476 Aliquet. Ave',\n",
    "'Minot AZ 95302',\n",
    "'(837) 196-3274',\n",
    "'Castor Richardson',\n",
    "'P.O. Box 902 3472 Ullamcorper Street',\n",
    "'Lynchburg DC 29738',\n",
    "'(268) 442-2428',\n",
    "'Sonya Jordan',\n",
    "'Ap #443-336 Ullamcorper. Street',\n",
    "'Visalia VA 54886',\n",
    "'(850) 676-5117',\n",
    "'Harrison Mcguire',\n",
    "'574-8633 Arcu Street',\n",
    "'San Fernando ID 77373',\n",
    "'(861) 546-5032',\n",
    "'Malcolm Long',\n",
    "'9291 Proin Road',\n",
    "'Lake Charles Maine 11292',\n",
    "'(176) 805-4108',\n",
    "'Raymond Levy',\n",
    "'Ap #643-7006 Risus St.',\n",
    "'Beaumont New Mexico 73585',\n",
    "'(715) 912-6931',\n",
    "'Hedley Ingram',\n",
    "'737-2580 At Street',\n",
    "'Independence Texas 87535',\n",
    "'(993) 554-0563',\n",
    "'David Mathews',\n",
    "'1011 Malesuada Road',\n",
    "'Moscow Kentucky 77382',\n",
    "'(357) 616-5411',\n",
    "'Xyla Cash',\n",
    "'969-1762 Tincidunt Rd.',\n",
    "'Boise CT 35282',\n",
    "'(121) 347-0086',\n",
    "'Madeline Gregory',\n",
    "'977-4841 Ut Ave',\n",
    "'Walla Walla Michigan 82776',\n",
    "'(304) 506-6314',\n",
    "'Griffith Daniels',\n",
    "'6818 Eget St.',\n",
    "'Tacoma AL 92508',\n",
    "'(425) 288-2332',\n",
    "'Anne Beasley',\n",
    "'987-4223 Urna St.',\n",
    "'Savannah Illinois 85794',\n",
    "'(145) 987-4962',\n",
    "'Chaney Bennett',\n",
    "'P.O. Box 721 902 Dolor Rd.',\n",
    "'Fremont AK 19408',\n",
    "'(187) 582-9707',\n",
    "'Daniel Bernard',\n",
    "'P.O. Box 567 1561 Duis Rd.',\n",
    "'Pomona TN 08609',\n",
    "'(750) 558-3965',\n",
    "'Willow Hunt',\n",
    "'Ap #784-1887 Lobortis Ave',\n",
    "'Cudahy Ohio 31522',\n",
    "'(492) 467-3131',\n",
    "'Judith Floyd',\n",
    "'361-7936 Feugiat St.',\n",
    "'Williston Nevada 58521',\n",
    "'(774) 914-2510',\n",
    "'Seth Farley',\n",
    "'6216 Aenean Avenue',\n",
    "'Seattle Utah 81202',\n",
    "'(888) 106-8550',\n",
    "'Zephania Sanders',\n",
    "'3714 Nascetur St.',\n",
    "'Hawthorne Louisiana 10626',\n",
    "'(539) 567-3573',\n",
    "'Calista Merritt',\n",
    "'Ap #938-5470 Posuere Ave',\n",
    "'Chickasha LA 58520',\n",
    "'(693) 337-2849',\n",
    "'Craig Williams',\n",
    "'P.O. Box 372 5634 Montes Rd.',\n",
    "'Springdale MO 57692',\n",
    "'(545) 604-9386',\n",
    "'Lee Preston',\n",
    "'981 Eget Rd.',\n",
    "'Clemson GA 04645',\n",
    "'(221) 156-5026',\n",
    "'Katelyn Cooper',\n",
    "'6059 Sollicitudin Road',\n",
    "'Burlingame Colorado 26278',\n",
    "'(414) 876-0865',\n",
    "'Lacy Eaton',\n",
    "'1379 Nulla. Av.',\n",
    "'Asbury Park Montana 69679',\n",
    "'(932) 726-8645',\n",
    "'Driscoll Leach',\n",
    "'P.O. Box 120 2410 Odio Avenue',\n",
    "'Pass Christian Delaware 03869',\n",
    "'(726) 710-9826',\n",
    "'Merritt Watson',\n",
    "'P.O. Box 686 7014 Amet Street',\n",
    "'Corona Oklahoma 55246',\n",
    "'(622) 594-1662',\n",
    "'Nehru Holmes',\n",
    "'P.O. Box 547 4764 Sed Road',\n",
    "'Grand Rapids CT 87323',\n",
    "'(948) 600-8503',\n",
    "'Quamar Rivera',\n",
    "'427-5827 Ac St.',\n",
    "'Schaumburg Arkansas 84872',\n",
    "'(605) 900-7508',\n",
    "'Hiram Mullins',\n",
    "'754-6427 Nunc Ave',\n",
    "'Kennewick AL 41329',\n",
    "'(716) 977-5775',\n",
    "'Kim Fletcher',\n",
    "'Ap #345-3847 Metus Road',\n",
    "'Independence CO 30135',\n",
    "'(368) 239-8275',\n",
    "'Rigel Koch',\n",
    "'P.O. Box 558 9561 Lacus. Road',\n",
    "'Laughlin Hawaii 99602',\n",
    "'(725) 342-0650',\n",
    "'Jeanette Sharpe',\n",
    "'Ap #364-2006 Ipsum Avenue',\n",
    "'Wilmington Ohio 91750',\n",
    "'(711) 993-5187',\n",
    "'Dahlia Lee',\n",
    "'1293 Tincidunt Street',\n",
    "'Atwater Pennsylvania 76865',\n",
    "'(882) 399-5084',\n",
    "'Howard Hayden',\n",
    "'P.O. Box 847 8019 Facilisis Street',\n",
    "'Joliet SC 73490',\n",
    "'(287) 755-9948',\n",
    "'Hyatt Kramer',\n",
    "'1011 Massa Av.',\n",
    "'Kent ID 63725',\n",
    "'(659) 551-3389',\n",
    "'Sonya Ray',\n",
    "'Ap #315-8441 Eleifend Street',\n",
    "'Fairbanks RI 96892',\n",
    "'(275) 730-6868',\n",
    "'Cara Whitehead',\n",
    "'4005 Praesent St.',\n",
    "'Torrance Wyoming 22767',\n",
    "'(725) 757-4047',\n",
    "'Blythe Carroll',\n",
    "'7709 Justo. Ave',\n",
    "':Princeton TX 77987',\n",
    "'(314) 882-1496',\n",
    "'Dale Griffin',\n",
    "'P.O. Box 854 8580 In Ave',\n",
    "'Revere South Dakota 43841',\n",
    "'(639) 360-7590',\n",
    "'McKenzie Hernandez',\n",
    "'Ap #367-674 Mi Street',\n",
    "'Greensboro VT 40684',\n",
    "'(168) 222-1592',\n",
    "'Haviva Holcomb',\n",
    "'P.O. Box 642 3450 In Road',\n",
    "'Isle of Palms New York 03828',\n",
    "'(896) 303-1164',\n",
    "'Ezra Duffy',\n",
    "'Ap #782-7348 Dis Rd.',\n",
    "'Austin KY 50710',\n",
    "'(203) 982-6130',\n",
    "'Eleanor Jennings',\n",
    "'9631 Semper Ave',\n",
    "'Astoria NJ 66309',\n",
    "'(906) 217-1470',\n",
    "'Remedios Hester',\n",
    "'487-5787 Mollis St.',\n",
    "'City of Industry Louisiana 67973',\n",
    "'(614) 514-1269',\n",
    "'Jasper Carney',\n",
    "'1195 Lobortis Rd.',\n",
    "'New Orleans New Hampshire 71983',\n",
    "'(763) 409-5446',\n",
    "'Vielka Nielsen',\n",
    "'Ap #517-7326 Elementum Rd.',\n",
    "'Fort Smith North Dakota 79637',\n",
    "'(836) 292-5324',\n",
    "'Wilma Pace',\n",
    "'Ap #676-6532 Odio Rd.',\n",
    "'Darlington CO 06963',\n",
    "'(926) 709-3295',\n",
    "'Palmer Gay',\n",
    "'557-2026 Purus St.',\n",
    "'Watertown TN 07367',\n",
    "'(963) 356-9268',\n",
    "'Lyle Sutton',\n",
    "'Ap #250-9843 Elementum St.',\n",
    "'South Gate Missouri 68999',\n",
    "'(736) 522-8584',\n",
    "'Ina Burt',\n",
    "'Ap #130-1685 Ut Street',\n",
    "'Tyler KS 73510',\n",
    "'(410) 483-0352',\n",
    "'Cleo Best',\n",
    "'282-8351 Tincidunt Ave',\n",
    "'Sedalia Utah 53700',\n",
    "'(252) 204-1434',\n",
    "'Hu Park',\n",
    "'1429 Netus Rd.',\n",
    "'Reedsport NY 48247',\n",
    "'(874) 886-4174',\n",
    "'Liberty Walton',\n",
    "'343-6527 Purus. Avenue',\n",
    "'Logan NV 12657',\n",
    "'(581) 379-7573',\n",
    "'Aaron Trujillo',\n",
    "'Ap #146-3132 Cras Rd.',\n",
    "'Kingsport NH 56618',\n",
    "'(983) 632-8597',\n",
    "'Elmo Lopez',\n",
    "'Ap #481-7473 Cum Rd.',\n",
    "'Yorba Linda South Carolina 28423',\n",
    "'(295) 983-3476',\n",
    "'Emerson Espinoza',\n",
    "'Ap #247-5577 Tincidunt St.',\n",
    "'Corpus Christi WI 97020',\n",
    "'(873) 392-8802',\n",
    "'Daniel Malone',\n",
    "'2136 Adipiscing Av.',\n",
    "'Lima RI 93490',\n",
    "'(360) 669-3923',\n",
    "'Dante Bennett',\n",
    "'481-8762 Nulla Street',\n",
    "'Dearborn OR 62401',\n",
    "'(840) 987-9449',\n",
    "'Sade Higgins',\n",
    "'Ap #287-3260 Ut St.',\n",
    "'Wilmington OR 05182',\n",
    "'(422) 517-6053',\n",
    "'Zorita Anderson',\n",
    "'1964 Facilisis Avenue',\n",
    "'Bell Gardens Texas 87065',\n",
    "'(126) 940-2753',\n",
    "'Jordan Calderon',\n",
    "'430-985 Eleifend St.',\n",
    "'Duluth Washington 92611',\n",
    "'(427) 930-5255',\n",
    "'Ivor Delgado',\n",
    "'Ap #310-1678 Ut Av.',\n",
    "'Santa Barbara MT 88317',\n",
    "'(689) 721-5145',\n",
    "'Pascale Patton',\n",
    "'P.O. Box 399 4275 Amet Street',\n",
    "'West Allis NC 36734',\n",
    "'(676) 334-2174',\n",
    "'Nasim Strong',\n",
    "'Ap #630-3889 Nulla. Street',\n",
    "'Watervliet Oklahoma 70863',\n",
    "'(437) 994-5270',\n",
    "'Keaton Underwood',\n",
    "'Ap #636-8082 Arcu Avenue',\n",
    "'Thiensville Maryland 19587',\n",
    "'(564) 908-6970',\n",
    "'Keegan Blair',\n",
    "'Ap #761-2515 Egestas. Rd.',\n",
    "'Manitowoc TN 07528',\n",
    "'(577) 333-6244',\n",
    "'Tamara Howe',\n",
    "'3415 Lobortis. Avenue',\n",
    "'Rocky Mount WA 48580',\n",
    "'(655) 840-6139']"
   ]
  },
  {
   "cell_type": "code",
   "execution_count": 126,
   "metadata": {
    "collapsed": false
   },
   "outputs": [
    {
     "name": "stdout",
     "output_type": "stream",
     "text": [
      "400\n"
     ]
    }
   ],
   "source": [
    "print len(addressList)"
   ]
  },
  {
   "cell_type": "code",
   "execution_count": 127,
   "metadata": {
    "collapsed": false
   },
   "outputs": [
    {
     "name": "stdout",
     "output_type": "stream",
     "text": [
      "['Cecilia Chapman', '711-2880 Nulla St.', 'Mankato Mississippi 96522', '(257) 563-7401', 'Iris Watson', 'P.O. Box 283 8562 Fusce Rd.', 'Frederick Nebraska 20620', '(372) 587-2335', 'Celeste Slater', '606-3727 Ullamcorper. Street']\n"
     ]
    }
   ],
   "source": [
    "print addressList[0:10]"
   ]
  },
  {
   "cell_type": "code",
   "execution_count": 140,
   "metadata": {
    "collapsed": false
   },
   "outputs": [],
   "source": [
    "count = 0\n",
    "\n",
    "comprehensiveInfo = {}\n",
    "\n",
    "for i in range(0,len(addressList),4):\n",
    "    \n",
    "    individualInfo = {}\n",
    "\n",
    "    individualInfo[\"Name\"] = addressList[i]\n",
    "    individualInfo[\"Street\"] =  addressList[i+1]\n",
    "    individualInfo[\"City\"] =  addressList[i+2]\n",
    "    individualInfo[\"Phone\"] =  addressList[i+3]\n",
    "\n",
    "    comprehensiveInfo[addressList[i]] = individualInfo\n",
    "        "
   ]
  },
  {
   "cell_type": "code",
   "execution_count": 141,
   "metadata": {
    "collapsed": false
   },
   "outputs": [
    {
     "name": "stdout",
     "output_type": "stream",
     "text": [
      "100\n"
     ]
    }
   ],
   "source": [
    "print len(comprehensiveInfo)"
   ]
  },
  {
   "cell_type": "code",
   "execution_count": 143,
   "metadata": {
    "collapsed": false
   },
   "outputs": [
    {
     "name": "stdout",
     "output_type": "stream",
     "text": [
      "Mankato Mississippi 96522\n"
     ]
    }
   ],
   "source": [
    "print comprehensiveInfo['Cecilia Chapman']['City']"
   ]
  },
  {
   "cell_type": "markdown",
   "metadata": {},
   "source": [
    "###  Write a Python script to sort a list of integers in descending order"
   ]
  },
  {
   "cell_type": "code",
   "execution_count": 145,
   "metadata": {
    "collapsed": false
   },
   "outputs": [
    {
     "name": "stdout",
     "output_type": "stream",
     "text": [
      "Result: [1, 2, 3, 5, 6, 6, 9, 10]\n"
     ]
    }
   ],
   "source": [
    "numbers = [3,5,6,2,9,1,6,10]\n",
    "result = []\n",
    "\n",
    "for i in range(len(numbers)):\n",
    "    smallest = min(numbers)\n",
    "    result.append(smallest)\n",
    "    numbers.remove(smallest)\n",
    "    \n",
    "print \"Result:\",result"
   ]
  },
  {
   "cell_type": "markdown",
   "metadata": {},
   "source": [
    "### Write a Python script to sort the elements of a dictionary (by key) in ascending order \n"
   ]
  },
  {
   "cell_type": "code",
   "execution_count": null,
   "metadata": {
    "collapsed": true
   },
   "outputs": [],
   "source": []
  }
 ],
 "metadata": {
  "kernelspec": {
   "display_name": "Python 2",
   "language": "python",
   "name": "python2"
  },
  "language_info": {
   "codemirror_mode": {
    "name": "ipython",
    "version": 2
   },
   "file_extension": ".py",
   "mimetype": "text/x-python",
   "name": "python",
   "nbconvert_exporter": "python",
   "pygments_lexer": "ipython2",
   "version": "2.7.10"
  }
 },
 "nbformat": 4,
 "nbformat_minor": 1
}
