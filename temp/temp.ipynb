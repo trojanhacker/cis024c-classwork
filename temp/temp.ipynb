{
 "cells": [
  {
   "cell_type": "markdown",
   "metadata": {},
   "source": [
    "### Defining a function"
   ]
  },
  {
   "cell_type": "code",
   "execution_count": 3,
   "metadata": {
    "collapsed": false
   },
   "outputs": [
    {
     "name": "stdout",
     "output_type": "stream",
     "text": [
      "Hello\n"
     ]
    }
   ],
   "source": [
    "def saySomething():\n",
    "    print \"Hello\"\n",
    "    \n",
    "saySomething()"
   ]
  },
  {
   "cell_type": "code",
   "execution_count": 4,
   "metadata": {
    "collapsed": false
   },
   "outputs": [
    {
     "name": "stdout",
     "output_type": "stream",
     "text": [
      "Hello\n",
      "Good Morning\n"
     ]
    }
   ],
   "source": [
    "def saySomething(something):\n",
    "    print something\n",
    "    \n",
    "saySomething(\"Hello\")\n",
    "saySomething(\"Good Morning\")"
   ]
  },
  {
   "cell_type": "code",
   "execution_count": 7,
   "metadata": {
    "collapsed": false
   },
   "outputs": [
    {
     "name": "stdout",
     "output_type": "stream",
     "text": [
      "The sum of 2 and 3 is 5:\n",
      "The sum of 10 and 20 is 30:\n",
      "The sum of 200 and 300 is 500:\n"
     ]
    }
   ],
   "source": [
    "def add(x,y):\n",
    "    print \"The sum of %d and %d is %d:\" % (x,y,x+y)\n",
    "    \n",
    "add(2,3)\n",
    "add(10,20)\n",
    "add(200,300)"
   ]
  },
  {
   "cell_type": "code",
   "execution_count": 8,
   "metadata": {
    "collapsed": false
   },
   "outputs": [
    {
     "name": "stdout",
     "output_type": "stream",
     "text": [
      "6\n",
      "200\n",
      "60000\n"
     ]
    }
   ],
   "source": [
    "def multiply(x,y):\n",
    "    return x*y\n",
    "    \n",
    "print multiply(2,3)\n",
    "print multiply(10,20)\n",
    "print multiply(200,300)"
   ]
  },
  {
   "cell_type": "code",
   "execution_count": 10,
   "metadata": {
    "collapsed": false
   },
   "outputs": [
    {
     "name": "stdout",
     "output_type": "stream",
     "text": [
      "Harry Potter\n"
     ]
    }
   ],
   "source": [
    "def splitName(name):\n",
    "    \n",
    "    splitValues = name.split(\" \")\n",
    "    \n",
    "    return [splitValues[0],splitValues[1]]\n",
    "    \n",
    "splitName = splitName(\"Harry Potter\")\n",
    "\n",
    "print splitName[0],splitName[1]"
   ]
  },
  {
   "cell_type": "code",
   "execution_count": 11,
   "metadata": {
    "collapsed": false
   },
   "outputs": [
    {
     "name": "stdout",
     "output_type": "stream",
     "text": [
      "Harry Potter\n"
     ]
    }
   ],
   "source": [
    "def splitName(name):\n",
    "    \n",
    "    splitValues = name.split(\" \")\n",
    "    \n",
    "    return [splitValues[0],splitValues[1]]\n",
    "    \n",
    "firstName,lastName = splitName(\"Harry Potter\")\n",
    "\n",
    "print firstName,lastName"
   ]
  },
  {
   "cell_type": "code",
   "execution_count": 16,
   "metadata": {
    "collapsed": false
   },
   "outputs": [
    {
     "name": "stdout",
     "output_type": "stream",
     "text": [
      "5\n",
      "30\n"
     ]
    }
   ],
   "source": [
    "sum = 30\n",
    "\n",
    "def add(x,y):\n",
    "    \n",
    "    sum = x+y\n",
    "    \n",
    "    return sum\n",
    "    \n",
    "print add(2,3)\n",
    "print sum"
   ]
  },
  {
   "cell_type": "code",
   "execution_count": 29,
   "metadata": {
    "collapsed": false
   },
   "outputs": [
    {
     "name": "stdout",
     "output_type": "stream",
     "text": [
      "36\n"
     ]
    }
   ],
   "source": [
    "def add(x,y):\n",
    "    \n",
    "    return x+y\n",
    "\n",
    "def multiply(x,y):\n",
    "    \n",
    "    product = 0\n",
    "    for i in range(x):\n",
    "        \n",
    "        product += add(0,y)\n",
    "\n",
    "    return product\n",
    "\n",
    "print multiply(3,12)"
   ]
  },
  {
   "cell_type": "code",
   "execution_count": 38,
   "metadata": {
    "collapsed": false
   },
   "outputs": [
    {
     "name": "stdout",
     "output_type": "stream",
     "text": [
      "32\n"
     ]
    }
   ],
   "source": [
    "# finding the product of numbers using recursion\n",
    "def multiply(x,y):\n",
    "    \n",
    "    if x == 1:\n",
    "        return y\n",
    "    else:\n",
    "        return y + multiply(x-1,y)\n",
    "    \n",
    "print multiply(4,8)\n",
    "    "
   ]
  },
  {
   "cell_type": "code",
   "execution_count": 45,
   "metadata": {
    "collapsed": false
   },
   "outputs": [
    {
     "name": "stdout",
     "output_type": "stream",
     "text": [
      "Enter the first number:3\n",
      "Enter the second number:sadf\n",
      "User has entered an invalid number\n",
      "Enter the second number:dsf\n",
      "User has entered an invalid number\n",
      "Enter the second number:asdf\n",
      "User has entered an invalid number\n",
      "Enter the second number:adsf\n",
      "User has entered an invalid number\n",
      "Enter the second number:5\n",
      "The sum of the two numbers is: 8\n"
     ]
    }
   ],
   "source": [
    "# function to get input from the user validate and return the result\n",
    "\n",
    "def add(x,y):\n",
    "    return x+y\n",
    "\n",
    "def getNumber(prompt):\n",
    "    \n",
    "    # get number\n",
    "    numberString = raw_input(prompt)\n",
    "    \n",
    "    # validate the number - check if it is a number\n",
    "    if numberString.isdigit():\n",
    "        return int(numberString)\n",
    "    else:\n",
    "        print \"User has entered an invalid number\"\n",
    "        return -1\n",
    "        \n",
    "# add two numbers\n",
    "\n",
    "number1 = -1\n",
    "while number1 == -1:\n",
    "    number1 = getNumber(\"Enter the first number:\")\n",
    "    \n",
    "number2 = -1\n",
    "while number2 == -1:\n",
    "    number2 = getNumber(\"Enter the second number:\")\n",
    "    \n",
    "print \"The sum of the two numbers is:\",add(number1,number2)"
   ]
  },
  {
   "cell_type": "code",
   "execution_count": 46,
   "metadata": {
    "collapsed": false
   },
   "outputs": [
    {
     "name": "stdout",
     "output_type": "stream",
     "text": [
      "120\n"
     ]
    }
   ],
   "source": [
    "# recursive function to compute the factorial of a number\n",
    "\n",
    "def factorial(x):\n",
    "    \n",
    "    if x == 1:\n",
    "        return 1\n",
    "    else:\n",
    "        return x*factorial(x-1)\n",
    "    \n",
    "print factorial(5)"
   ]
  },
  {
   "cell_type": "code",
   "execution_count": 61,
   "metadata": {
    "collapsed": false
   },
   "outputs": [
    {
     "name": "stdout",
     "output_type": "stream",
     "text": [
      "Distance between words is: h h 0\n",
      "a u -20\n",
      "t r 2\n",
      "e t -15\n",
      "-33\n"
     ]
    }
   ],
   "source": [
    "# finding similarity between words using Levenshtein or edit distance\n",
    "def similarity(word1,word2):\n",
    "    \n",
    "    lettersCount = 0\n",
    "    if len(word1) <= len(word2):\n",
    "        lettersCount = len(word1)\n",
    "    else:\n",
    "        lettersCount = len(word2)\n",
    "        \n",
    "    editDistance = 0\n",
    "    \n",
    "    for i in range(lettersCount):\n",
    "        \n",
    "        letterDistance = ord(word1[i]) - ord(word2[i]) \n",
    "        \n",
    "        print word1[i],word2[i],letterDistance\n",
    "        \n",
    "        editDistance += letterDistance\n",
    "        \n",
    "    return editDistance\n",
    "        \n",
    "print \"Distance between words is:\",similarity(\"hate\",\"hurt\")\n",
    "    "
   ]
  },
  {
   "cell_type": "code",
   "execution_count": null,
   "metadata": {
    "collapsed": true
   },
   "outputs": [],
   "source": []
  }
 ],
 "metadata": {
  "kernelspec": {
   "display_name": "Python 2",
   "language": "python",
   "name": "python2"
  },
  "language_info": {
   "codemirror_mode": {
    "name": "ipython",
    "version": 2
   },
   "file_extension": ".py",
   "mimetype": "text/x-python",
   "name": "python",
   "nbconvert_exporter": "python",
   "pygments_lexer": "ipython2",
   "version": "2.7.10"
  }
 },
 "nbformat": 4,
 "nbformat_minor": 1
}
