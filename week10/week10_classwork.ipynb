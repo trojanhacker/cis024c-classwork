{
 "cells": [
  {
   "cell_type": "code",
   "execution_count": 144,
   "metadata": {
    "collapsed": false
   },
   "outputs": [],
   "source": [
    "class Employee(object):\n",
    "    \n",
    "    count = 0\n",
    "    \n",
    "    def __init__(self, name, age):\n",
    "        \n",
    "        Employee.count += 1\n",
    "        \n",
    "        self.__name = name\n",
    "        self.__age = age\n",
    "        self.__city = \"San Jose\"\n",
    "    \n",
    "    def __init__(self, name, age, city):\n",
    "        \n",
    "        Employee.count += 1\n",
    "        \n",
    "        self.__name = name\n",
    "        self.__age = age\n",
    "        self.__city = city\n",
    "        \n",
    "    def __str__(self):\n",
    "        \n",
    "        return \"Name:\" + self.__name + \" Age:\" + str(self.__age)\n",
    "    \n",
    "    def __len__(self):\n",
    "        \n",
    "        return 2\n",
    "        \n",
    "    def setName(self,name):\n",
    "        \n",
    "        self.__myOldName = self.__name\n",
    "        self.__name = name\n",
    "        \n",
    "    def getOldName(self):\n",
    "        \n",
    "        return self.__myOldName\n",
    "        \n",
    "    def setAge(self,age):\n",
    "        \n",
    "        self.__age = age\n",
    "        \n",
    "    def getName(self):\n",
    "        \n",
    "        return self.__name\n",
    "        \n",
    "    def getAge(self):\n",
    "        \n",
    "        return self.__age\n",
    "    "
   ]
  },
  {
   "cell_type": "code",
   "execution_count": 145,
   "metadata": {
    "collapsed": true
   },
   "outputs": [],
   "source": [
    "class Teacher(Employee):\n",
    "    \n",
    "    def __init__(self, course, name, age, city):\n",
    "        \n",
    "        super(Teacher, self).__init__(name,age,city)\n",
    "        \n",
    "        self.__course = course\n",
    "\n",
    "    def getCourse(self):\n",
    "        return self.__course\n",
    "    \n",
    "    def __str__(self):\n",
    "        return \"Course:\" + self.__course\n",
    "        "
   ]
  },
  {
   "cell_type": "code",
   "execution_count": 146,
   "metadata": {
    "collapsed": false
   },
   "outputs": [],
   "source": [
    "mary = Teacher(\"Python\",\"Mary\",35,\"San Francisco\")"
   ]
  },
  {
   "cell_type": "code",
   "execution_count": 147,
   "metadata": {
    "collapsed": false
   },
   "outputs": [
    {
     "name": "stdout",
     "output_type": "stream",
     "text": [
      "35\n"
     ]
    }
   ],
   "source": [
    "print mary.getAge()"
   ]
  },
  {
   "cell_type": "code",
   "execution_count": 148,
   "metadata": {
    "collapsed": false
   },
   "outputs": [
    {
     "name": "stdout",
     "output_type": "stream",
     "text": [
      "None\n"
     ]
    }
   ],
   "source": [
    "print mary.setName(\"Sally\")"
   ]
  },
  {
   "cell_type": "code",
   "execution_count": 149,
   "metadata": {
    "collapsed": false
   },
   "outputs": [
    {
     "name": "stdout",
     "output_type": "stream",
     "text": [
      "Sally\n",
      "Mary\n"
     ]
    }
   ],
   "source": [
    "print mary.getName()\n",
    "print mary.getOldName()"
   ]
  },
  {
   "cell_type": "code",
   "execution_count": 65,
   "metadata": {
    "collapsed": false
   },
   "outputs": [],
   "source": [
    "harry = Employee(\"Harry Potter\", 23)"
   ]
  },
  {
   "cell_type": "code",
   "execution_count": 58,
   "metadata": {
    "collapsed": false
   },
   "outputs": [
    {
     "name": "stdout",
     "output_type": "stream",
     "text": [
      "Harry Potter\n"
     ]
    }
   ],
   "source": [
    "print harry.getName()"
   ]
  },
  {
   "cell_type": "code",
   "execution_count": 59,
   "metadata": {
    "collapsed": true
   },
   "outputs": [],
   "source": [
    "groceryItems = [\"sugar\",\"milk\",\"bread\"]"
   ]
  },
  {
   "cell_type": "code",
   "execution_count": 60,
   "metadata": {
    "collapsed": false
   },
   "outputs": [
    {
     "name": "stdout",
     "output_type": "stream",
     "text": [
      "['sugar', 'milk', 'bread']\n"
     ]
    }
   ],
   "source": [
    "print groceryItems"
   ]
  },
  {
   "cell_type": "code",
   "execution_count": 61,
   "metadata": {
    "collapsed": false
   },
   "outputs": [
    {
     "name": "stdout",
     "output_type": "stream",
     "text": [
      "Name:Bob Seamon Age:45\n"
     ]
    }
   ],
   "source": [
    "print bob"
   ]
  },
  {
   "cell_type": "code",
   "execution_count": 66,
   "metadata": {
    "collapsed": false
   },
   "outputs": [
    {
     "name": "stdout",
     "output_type": "stream",
     "text": [
      "2\n"
     ]
    }
   ],
   "source": [
    "print len(bob)"
   ]
  },
  {
   "cell_type": "code",
   "execution_count": 151,
   "metadata": {
    "collapsed": true
   },
   "outputs": [],
   "source": [
    "class Line:\n",
    "    \n",
    "    def __init__(self,length):\n",
    "        self.length = length\n",
    "        \n",
    "    def __add__(self,other):\n",
    "        \n",
    "        newLine = Line(self.length + other.length)\n",
    "        \n",
    "        return newLine\n",
    "    \n",
    "    def __str__(self):\n",
    "        \n",
    "        return \"Length:\" + str(self.length)"
   ]
  },
  {
   "cell_type": "code",
   "execution_count": 152,
   "metadata": {
    "collapsed": false
   },
   "outputs": [
    {
     "name": "stdout",
     "output_type": "stream",
     "text": [
      "Length:15\n"
     ]
    }
   ],
   "source": [
    "firstLine = Line(5)\n",
    "secondLine = Line(10)\n",
    "\n",
    "myNewLine = firstLine + secondLine\n",
    "\n",
    "print myNewLine"
   ]
  },
  {
   "cell_type": "code",
   "execution_count": 153,
   "metadata": {
    "collapsed": false
   },
   "outputs": [
    {
     "name": "stdout",
     "output_type": "stream",
     "text": [
      "HelloHarry\n"
     ]
    }
   ],
   "source": [
    "greeting = \"Hello\"\n",
    "name = \"Harry\"\n",
    "\n",
    "print greeting  + name"
   ]
  },
  {
   "cell_type": "code",
   "execution_count": 158,
   "metadata": {
    "collapsed": false
   },
   "outputs": [
    {
     "name": "stdout",
     "output_type": "stream",
     "text": [
      "Add:5 Subtract:-1\n"
     ]
    }
   ],
   "source": [
    "class Calculator(object):\n",
    "    \n",
    "    def __init__(self,n1,n2):\n",
    "        self.number1 = n1\n",
    "        self.number2 = n2\n",
    "        \n",
    "    def add(self):\n",
    "        \n",
    "        return self.number1 + self.number2\n",
    "    \n",
    "    def subtract(self):\n",
    "        \n",
    "        return self.number1 - self.number2\n",
    "    \n",
    "    def __str__(self):\n",
    "        \n",
    "        return \"Add:%s Subtract:%s\" % (str(self.add()),str(self.subtract()))\n",
    "    \n",
    "myCal = Calculator(2,3)\n",
    "\n",
    "print myCal\n",
    "    \n",
    "    \n",
    "    \n",
    "    "
   ]
  },
  {
   "cell_type": "code",
   "execution_count": 165,
   "metadata": {
    "collapsed": true
   },
   "outputs": [],
   "source": [
    "class Employee(object):\n",
    "    \n",
    "    def __init__(self,name,age,salary):\n",
    "        \n",
    "        self.name = name\n",
    "        self.age = age\n",
    "        self.salary = salary\n",
    "        \n",
    "    def setAge(self,newAge):\n",
    "        \n",
    "        self.age = newAge\n",
    "        \n",
    "    def __str__(self):\n",
    "        \n",
    "        return \"Name:%s\\n Age:%s\\n Salary:%s\\n\" % (self.name,self.age,self.salary)\n",
    "        "
   ]
  },
  {
   "cell_type": "code",
   "execution_count": 166,
   "metadata": {
    "collapsed": true
   },
   "outputs": [],
   "source": [
    "newEmployee = Employee(\"Bob\",35,35000)"
   ]
  },
  {
   "cell_type": "code",
   "execution_count": 167,
   "metadata": {
    "collapsed": false
   },
   "outputs": [],
   "source": [
    "newEmployee.setAge(36)"
   ]
  },
  {
   "cell_type": "code",
   "execution_count": 168,
   "metadata": {
    "collapsed": false
   },
   "outputs": [
    {
     "name": "stdout",
     "output_type": "stream",
     "text": [
      "Name:Bob\n",
      " Age:36\n",
      " Salary:35000\n",
      "\n"
     ]
    }
   ],
   "source": [
    "print newEmployee"
   ]
  },
  {
   "cell_type": "code",
   "execution_count": null,
   "metadata": {
    "collapsed": true
   },
   "outputs": [],
   "source": []
  }
 ],
 "metadata": {
  "kernelspec": {
   "display_name": "Python 2",
   "language": "python",
   "name": "python2"
  },
  "language_info": {
   "codemirror_mode": {
    "name": "ipython",
    "version": 2
   },
   "file_extension": ".py",
   "mimetype": "text/x-python",
   "name": "python",
   "nbconvert_exporter": "python",
   "pygments_lexer": "ipython2",
   "version": "2.7.12"
  }
 },
 "nbformat": 4,
 "nbformat_minor": 1
}
